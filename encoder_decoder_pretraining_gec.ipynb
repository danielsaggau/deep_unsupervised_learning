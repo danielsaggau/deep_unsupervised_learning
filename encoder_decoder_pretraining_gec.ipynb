{
  "nbformat": 4,
  "nbformat_minor": 0,
  "metadata": {
    "colab": {
      "name": "encoder_decoder_pretraining_gec.ipynb",
      "provenance": [],
      "authorship_tag": "ABX9TyNxGH4fyt5dVdyV9fAtJ+do",
      "include_colab_link": true
    },
    "kernelspec": {
      "name": "python3",
      "display_name": "Python 3"
    },
    "language_info": {
      "name": "python"
    },
    "accelerator": "GPU"
  },
  "cells": [
    {
      "cell_type": "markdown",
      "metadata": {
        "id": "view-in-github",
        "colab_type": "text"
      },
      "source": [
        "<a href=\"https://colab.research.google.com/github/danielsaggau/deep_unsupervised_learning/blob/main/encoder_decoder_pretraining_gec.ipynb\" target=\"_parent\"><img src=\"https://colab.research.google.com/assets/colab-badge.svg\" alt=\"Open In Colab\"/></a>"
      ]
    },
    {
      "cell_type": "code",
      "metadata": {
        "colab": {
          "base_uri": "https://localhost:8080/"
        },
        "id": "ob87du33-Vcb",
        "outputId": "12d13dad-2627-4e4f-8088-9c593a0c2821"
      },
      "source": [
        "!git clone 'https://github.com/kanekomasahiro/bert-gec.git'"
      ],
      "execution_count": 1,
      "outputs": [
        {
          "output_type": "stream",
          "text": [
            "Cloning into 'bert-gec'...\n",
            "remote: Enumerating objects: 92, done.\u001b[K\n",
            "remote: Counting objects: 100% (92/92), done.\u001b[K\n",
            "remote: Compressing objects: 100% (74/74), done.\u001b[K\n",
            "remote: Total 92 (delta 47), reused 39 (delta 17), pack-reused 0\u001b[K\n",
            "Unpacking objects: 100% (92/92), done.\n"
          ],
          "name": "stdout"
        }
      ]
    },
    {
      "cell_type": "code",
      "metadata": {
        "colab": {
          "base_uri": "https://localhost:8080/"
        },
        "id": "E9MCeygL-hXt",
        "outputId": "b4f1a0dc-e1d9-4ce2-d459-86ea0a3fab43"
      },
      "source": [
        "%cd bert-gec/scripts"
      ],
      "execution_count": 2,
      "outputs": [
        {
          "output_type": "stream",
          "text": [
            "/content/bert-gec/scripts\n"
          ],
          "name": "stdout"
        }
      ]
    },
    {
      "cell_type": "code",
      "metadata": {
        "colab": {
          "base_uri": "https://localhost:8080/"
        },
        "id": "mbKSCx3Y-gb8",
        "outputId": "beb62e67-b2d6-4981-8968-ae17f37857ce"
      },
      "source": [
        "!./setup.sh"
      ],
      "execution_count": 3,
      "outputs": [
        {
          "output_type": "stream",
          "text": [
            "Loading bert-nmt\n",
            "Cloning into '../bert-nmt'...\n",
            "remote: Enumerating objects: 299, done.\u001b[K\n",
            "remote: Counting objects: 100% (299/299), done.\u001b[K\n",
            "remote: Compressing objects: 100% (249/249), done.\u001b[K\n",
            "remote: Total 299 (delta 59), reused 260 (delta 28), pack-reused 0\u001b[K\n",
            "Receiving objects: 100% (299/299), 2.58 MiB | 25.90 MiB/s, done.\n",
            "Resolving deltas: 100% (59/59), done.\n",
            "Loading subword\n",
            "Cloning into '../subword'...\n",
            "remote: Enumerating objects: 580, done.\u001b[K\n",
            "remote: Counting objects: 100% (4/4), done.\u001b[K\n",
            "remote: Compressing objects: 100% (4/4), done.\u001b[K\n",
            "remote: Total 580 (delta 0), reused 1 (delta 0), pack-reused 576\n",
            "Receiving objects: 100% (580/580), 237.41 KiB | 9.89 MiB/s, done.\n",
            "Resolving deltas: 100% (349/349), done.\n",
            "Loading gec-pseudodata\n",
            "Cloning into '../gec-pseudodata'...\n",
            "remote: Enumerating objects: 104, done.\u001b[K\n",
            "remote: Counting objects: 100% (104/104), done.\u001b[K\n",
            "remote: Compressing objects: 100% (71/71), done.\u001b[K\n",
            "remote: Total 104 (delta 52), reused 75 (delta 33), pack-reused 0\u001b[K\n",
            "Receiving objects: 100% (104/104), 557.73 KiB | 13.60 MiB/s, done.\n",
            "Resolving deltas: 100% (52/52), done.\n",
            "Loading pre-trained GEC model\n",
            "--2021-07-24 19:35:17--  https://gec-pseudo-data.s3-ap-northeast-1.amazonaws.com/ldc_giga.spell_error.pretrain.checkpoint_last.pt\n",
            "Resolving gec-pseudo-data.s3-ap-northeast-1.amazonaws.com (gec-pseudo-data.s3-ap-northeast-1.amazonaws.com)... 52.219.16.219\n",
            "Connecting to gec-pseudo-data.s3-ap-northeast-1.amazonaws.com (gec-pseudo-data.s3-ap-northeast-1.amazonaws.com)|52.219.16.219|:443... connected.\n",
            "HTTP request sent, awaiting response... 200 OK\n",
            "Length: 2017897726 (1.9G) [binary/octet-stream]\n",
            "Saving to: ‘../pseudo_model/ldc_giga.spell_error.pretrain.checkpoint_last.pt’\n",
            "\n",
            "ldc_giga.spell_erro 100%[===================>]   1.88G  31.1MB/s    in 63s     \n",
            "\n",
            "2021-07-24 19:36:20 (30.6 MB/s) - ‘../pseudo_model/ldc_giga.spell_error.pretrain.checkpoint_last.pt’ saved [2017897726/2017897726]\n",
            "\n",
            "Loading pre-trained BERT model\n",
            "--2021-07-24 19:36:20--  https://drive.google.com/uc?export=download&id=1wwrTLQ2cg8VYDqXezqZCm6ErJcPKppdm\n",
            "Resolving drive.google.com (drive.google.com)... 108.177.98.138, 108.177.98.102, 108.177.98.113, ...\n",
            "Connecting to drive.google.com (drive.google.com)|108.177.98.138|:443... connected.\n",
            "HTTP request sent, awaiting response... 404 Not Found\n",
            "2021-07-24 19:36:21 ERROR 404: Not Found.\n",
            "\n",
            "--2021-07-24 19:36:21--  https://drive.google.com/uc?export=download&id=1D2YcxaSO-NQN8-HaybGg16v3FELNxOI5\n",
            "Resolving drive.google.com (drive.google.com)... 74.125.142.113, 74.125.142.100, 74.125.142.138, ...\n",
            "Connecting to drive.google.com (drive.google.com)|74.125.142.113|:443... connected.\n",
            "HTTP request sent, awaiting response... 404 Not Found\n",
            "2021-07-24 19:36:21 ERROR 404: Not Found.\n",
            "\n",
            "  % Total    % Received % Xferd  Average Speed   Time    Time     Time  Current\n",
            "                                 Dload  Upload   Total   Spent    Left  Speed\n",
            "100   141    0   141    0     0   1119      0 --:--:-- --:--:-- --:--:--  1119\n",
            "Loading wi+locness\n",
            "--2021-07-24 19:36:21--  https://www.cl.cam.ac.uk/research/nl/bea2019st/data/wi+locness_v2.1.bea19.tar.gz\n",
            "Resolving www.cl.cam.ac.uk (www.cl.cam.ac.uk)... 128.232.0.20, 2a05:b400:110::80:14\n",
            "Connecting to www.cl.cam.ac.uk (www.cl.cam.ac.uk)|128.232.0.20|:443... connected.\n",
            "HTTP request sent, awaiting response... 200 OK\n",
            "Length: 6120469 (5.8M) [application/x-gzip]\n",
            "Saving to: ‘../data/wi+locness_v2.1.bea19.tar.gz’\n",
            "\n",
            "wi+locness_v2.1.bea 100%[===================>]   5.84M  5.40MB/s    in 1.1s    \n",
            "\n",
            "2021-07-24 19:36:23 (5.40 MB/s) - ‘../data/wi+locness_v2.1.bea19.tar.gz’ saved [6120469/6120469]\n",
            "\n",
            "wi+locness/\n",
            "wi+locness/json_to_m2.py\n",
            "wi+locness/licence.wi.txt\n",
            "wi+locness/readme.txt\n",
            "wi+locness/license.locness.txt\n",
            "wi+locness/json/\n",
            "wi+locness/json/A.dev.json\n",
            "wi+locness/json/A.train.json\n",
            "wi+locness/json/B.dev.json\n",
            "wi+locness/json/B.train.json\n",
            "wi+locness/json/C.dev.json\n",
            "wi+locness/json/C.train.json\n",
            "wi+locness/json/N.dev.json\n",
            "wi+locness/m2/\n",
            "wi+locness/m2/ABCN.dev.gold.bea19.m2\n",
            "wi+locness/m2/A.train.gold.bea19.m2\n",
            "wi+locness/m2/A.dev.gold.bea19.m2\n",
            "wi+locness/m2/B.train.gold.bea19.m2\n",
            "wi+locness/m2/B.dev.gold.bea19.m2\n",
            "wi+locness/m2/C.train.gold.bea19.m2\n",
            "wi+locness/m2/C.dev.gold.bea19.m2\n",
            "wi+locness/m2/N.dev.gold.bea19.m2\n",
            "wi+locness/m2/ABC.train.gold.bea19.m2\n",
            "wi+locness/test/\n",
            "wi+locness/test/ABCN.test.bea19.orig\n",
            "wi+locness/test/readme.txt\n",
            "Loading pre-trained model\n",
            "--2021-07-24 19:36:24--  https://gec-pseudo-data.s3-ap-northeast-1.amazonaws.com/ldc_giga.spell_error.pretrain.checkpoint_last.pt\n",
            "Resolving gec-pseudo-data.s3-ap-northeast-1.amazonaws.com (gec-pseudo-data.s3-ap-northeast-1.amazonaws.com)... 52.219.136.167\n",
            "Connecting to gec-pseudo-data.s3-ap-northeast-1.amazonaws.com (gec-pseudo-data.s3-ap-northeast-1.amazonaws.com)|52.219.136.167|:443... connected.\n",
            "HTTP request sent, awaiting response... 200 OK\n",
            "Length: 2017897726 (1.9G) [binary/octet-stream]\n",
            "Saving to: ‘../pretrained/ldc_giga.spell_error.pretrain.checkpoint_last.pt’\n",
            "\n",
            "../pretrained/ldc_g 100%[===================>]   1.88G  31.7MB/s    in 62s     \n",
            "\n",
            "2021-07-24 19:37:27 (30.9 MB/s) - ‘../pretrained/ldc_giga.spell_error.pretrain.checkpoint_last.pt’ saved [2017897726/2017897726]\n",
            "\n"
          ],
          "name": "stdout"
        }
      ]
    },
    {
      "cell_type": "code",
      "metadata": {
        "colab": {
          "base_uri": "https://localhost:8080/"
        },
        "id": "vZYebX6PCEkS",
        "outputId": "956163ae-1c44-418c-cac7-3cb0b2113575"
      },
      "source": [
        "!pip install boto3"
      ],
      "execution_count": 6,
      "outputs": [
        {
          "output_type": "stream",
          "text": [
            "Requirement already satisfied: boto3 in /usr/local/lib/python3.7/dist-packages (1.18.6)\n",
            "Requirement already satisfied: botocore<1.22.0,>=1.21.6 in /usr/local/lib/python3.7/dist-packages (from boto3) (1.21.6)\n",
            "Requirement already satisfied: jmespath<1.0.0,>=0.7.1 in /usr/local/lib/python3.7/dist-packages (from boto3) (0.10.0)\n",
            "Requirement already satisfied: s3transfer<0.6.0,>=0.5.0 in /usr/local/lib/python3.7/dist-packages (from boto3) (0.5.0)\n",
            "Requirement already satisfied: urllib3<1.27,>=1.25.4 in /usr/local/lib/python3.7/dist-packages (from botocore<1.22.0,>=1.21.6->boto3) (1.26.6)\n",
            "Requirement already satisfied: python-dateutil<3.0.0,>=2.1 in /usr/local/lib/python3.7/dist-packages (from botocore<1.22.0,>=1.21.6->boto3) (2.8.1)\n",
            "Requirement already satisfied: six>=1.5 in /usr/local/lib/python3.7/dist-packages (from python-dateutil<3.0.0,>=2.1->botocore<1.22.0,>=1.21.6->boto3) (1.15.0)\n"
          ],
          "name": "stdout"
        }
      ]
    },
    {
      "cell_type": "code",
      "metadata": {
        "id": "3P9Otv55C-j4"
      },
      "source": [
        ""
      ],
      "execution_count": null,
      "outputs": []
    },
    {
      "cell_type": "code",
      "metadata": {
        "colab": {
          "base_uri": "https://localhost:8080/"
        },
        "id": "h1oXpkauBHgN",
        "outputId": "1459ed6d-2d98-4598-f353-5b4e67fda473"
      },
      "source": [
        "!./train.sh"
      ],
      "execution_count": 10,
      "outputs": [
        {
          "output_type": "stream",
          "text": [
            "Process file already exists\n",
            "/usr/local/lib/python3.7/dist-packages/requests/__init__.py:91: RequestsDependencyWarning: urllib3 (1.26.6) or chardet (3.0.4) doesn't match a supported version!\n",
            "  RequestsDependencyWarning)\n",
            "Namespace(activation_dropout=0.0, activation_fn='relu', adam_betas='(0.9,0.98)', adam_eps=1e-08, adaptive_input=False, adaptive_softmax_cutoff=None, adaptive_softmax_dropout=0, arch='transformer_s2_vaswani_wmt_en_de_big', attention_dropout=0.0, bert_first=True, bert_gates=[1, 1, 1, 1, 1, 1], bert_model_name='../bert-base-cased', bert_output_layer=-1, bert_ratio=1.0, bucket_cap_mb=25, clip_norm=1.0, cpu=False, criterion='label_smoothed_cross_entropy', curriculum=0, data='../process/bin', dataset_impl='cached', ddp_backend='c10d', decoder_attention_heads=16, decoder_embed_dim=1024, decoder_embed_path=None, decoder_ffn_embed_dim=4096, decoder_input_dim=1024, decoder_layers=6, decoder_learned_pos=False, decoder_no_bert=False, decoder_normalize_before=False, decoder_output_dim=1024, device_id=0, disable_validation=False, distributed_backend='nccl', distributed_init_method=None, distributed_no_spawn=False, distributed_port=-1, distributed_rank=0, distributed_world_size=1, dropout=0.3, encoder_attention_heads=16, encoder_bert_dropout=True, encoder_bert_dropout_ratio=0.3, encoder_bert_mixup=False, encoder_embed_dim=1024, encoder_embed_path=None, encoder_ffn_embed_dim=4096, encoder_layers=6, encoder_learned_pos=False, encoder_normalize_before=False, encoder_ratio=1.0, find_unused_parameters=False, finetune_bert=False, fix_batches_to_gpus=False, fp16=False, fp16_init_scale=128, fp16_scale_tolerance=0.0, fp16_scale_window=None, keep_interval_updates=-1, keep_last_epochs=-1, label_smoothing=0.1, lazy_load=False, left_pad_source='True', left_pad_target='False', log_format='simple', log_interval=1000, lr=[3e-05], lr_scheduler='reduce_lr_on_plateau', lr_shrink=0.7, lr_threshold=0.0001, mask_cls_sep=False, max_epoch=30, max_sentences=None, max_sentences_valid=None, max_source_positions=1024, max_target_positions=1024, max_tokens=4096, max_update=0, memory_efficient_fp16=False, min_loss_scale=0.0001, min_lr=1e-06, no_epoch_checkpoints=False, no_progress_bar=False, no_save=False, no_token_positional_embeddings=False, num_workers=0, optimizer='adam', optimizer_overrides='{}', raw_text=False, required_batch_size_multiple=8, reset_dataloader=True, reset_lr_scheduler=True, reset_meters=True, reset_optimizer=True, restore_file='checkpoint_last.pt', save_dir='../model/bert-base-cased/2222', save_interval=1, save_interval_updates=0, seed=2222, sentence_avg=False, share_all_embeddings=False, share_decoder_input_output_embed=False, skip_invalid_size_inputs_valid_test=False, source_lang='src', target_lang='trg', task='translation', tbmf_wrapper=False, tensorboard_logdir='', threshold_loss_scale=None, train_subset='train', update_freq=[1], upsample_primary=1, user_dir=None, valid_subset='valid', validate_interval=1, warmup_from_nmt=True, warmup_nmt_file='checkpoint_last.pt', weight_decay=0.0)\n",
            "Traceback (most recent call last):\n",
            "  File \"../bert-nmt/train.py\", line 315, in <module>\n",
            "    cli_main()\n",
            "  File \"../bert-nmt/train.py\", line 311, in cli_main\n",
            "    main(args)\n",
            "  File \"../bert-nmt/train.py\", line 42, in main\n",
            "    task = tasks.setup_task(args)\n",
            "  File \"/content/bert-gec/bert-nmt/fairseq/tasks/__init__.py\", line 19, in setup_task\n",
            "    return TASK_REGISTRY[args.task].setup_task(args, **kwargs)\n",
            "  File \"/content/bert-gec/bert-nmt/fairseq/tasks/translation.py\", line 182, in setup_task\n",
            "    src_dict = cls.load_dictionary(os.path.join(paths[0], 'dict.{}.txt'.format(args.source_lang)))\n",
            "  File \"/content/bert-gec/bert-nmt/fairseq/tasks/fairseq_task.py\", line 36, in load_dictionary\n",
            "    return Dictionary.load(filename)\n",
            "  File \"/content/bert-gec/bert-nmt/fairseq/data/dictionary.py\", line 181, in load\n",
            "    raise fnfe\n",
            "  File \"/content/bert-gec/bert-nmt/fairseq/data/dictionary.py\", line 175, in load\n",
            "    with open(f, 'r', encoding='utf-8') as fd:\n",
            "FileNotFoundError: [Errno 2] No such file or directory: '../process/bin/dict.src.txt'\n"
          ],
          "name": "stdout"
        }
      ]
    },
    {
      "cell_type": "code",
      "metadata": {
        "colab": {
          "base_uri": "https://localhost:8080/"
        },
        "id": "VYtAhB10ASsn",
        "outputId": "5bd93c45-8732-4fbb-de3e-36fc322a64f4"
      },
      "source": [
        "!./generate.sh '/content/bert-gec/data/valid.src' gpu"
      ],
      "execution_count": 9,
      "outputs": [
        {
          "output_type": "stream",
          "text": [
            "../subword/apply_bpe.py:396: DeprecationWarning: this script's location has moved to /content/bert-gec/subword/subword_nmt. This symbolic link will be removed in a future version. Please point to the new location, or install the package and use the command 'subword-nmt'\n",
            "  DeprecationWarning\n",
            "../subword/apply_bpe.py:416: ResourceWarning: unclosed file <_io.TextIOWrapper name='../gec-pseudodata/bpe/bpe_code.trg.dict_bpe8000' mode='r' encoding='UTF-8'>\n",
            "  args.codes = codecs.open(args.codes.name, encoding='utf-8')\n",
            "ResourceWarning: Enable tracemalloc to get the object allocation traceback\n",
            "Generating...\n",
            "/usr/local/lib/python3.7/dist-packages/requests/__init__.py:91: RequestsDependencyWarning: urllib3 (1.26.6) or chardet (3.0.4) doesn't match a supported version!\n",
            "  RequestsDependencyWarning)\n",
            "Traceback (most recent call last):\n",
            "  File \"../bert-nmt/interactive.py\", line 211, in <module>\n",
            "    cli_main()\n",
            "  File \"../bert-nmt/interactive.py\", line 207, in cli_main\n",
            "    main(args)\n",
            "  File \"../bert-nmt/interactive.py\", line 96, in main\n",
            "    task = tasks.setup_task(args)\n",
            "  File \"/content/bert-gec/bert-nmt/fairseq/tasks/__init__.py\", line 19, in setup_task\n",
            "    return TASK_REGISTRY[args.task].setup_task(args, **kwargs)\n",
            "  File \"/content/bert-gec/bert-nmt/fairseq/tasks/translation.py\", line 182, in setup_task\n",
            "    src_dict = cls.load_dictionary(os.path.join(paths[0], 'dict.{}.txt'.format(args.source_lang)))\n",
            "  File \"/content/bert-gec/bert-nmt/fairseq/tasks/fairseq_task.py\", line 36, in load_dictionary\n",
            "    return Dictionary.load(filename)\n",
            "  File \"/content/bert-gec/bert-nmt/fairseq/data/dictionary.py\", line 181, in load\n",
            "    raise fnfe\n",
            "  File \"/content/bert-gec/bert-nmt/fairseq/data/dictionary.py\", line 175, in load\n",
            "    with open(f, 'r', encoding='utf-8') as fd:\n",
            "FileNotFoundError: [Errno 2] No such file or directory: '../bert-fuse/dict.src.txt'\n"
          ],
          "name": "stdout"
        }
      ]
    }
  ]
}