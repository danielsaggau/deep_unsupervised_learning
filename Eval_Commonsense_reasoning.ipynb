{
  "nbformat": 4,
  "nbformat_minor": 0,
  "metadata": {
    "colab": {
      "name": "Eval_Commonsense_reasoning.ipynb",
      "provenance": [],
      "authorship_tag": "ABX9TyOzRyyPA5xW9bid1gtKSExI",
      "include_colab_link": true
    },
    "kernelspec": {
      "name": "python3",
      "display_name": "Python 3"
    },
    "language_info": {
      "name": "python"
    },
    "widgets": {
      "application/vnd.jupyter.widget-state+json": {
        "4b7766fa755d4b34bc6a83a94831eedf": {
          "model_module": "@jupyter-widgets/controls",
          "model_name": "HBoxModel",
          "model_module_version": "1.5.0",
          "state": {
            "_view_name": "HBoxView",
            "_dom_classes": [],
            "_model_name": "HBoxModel",
            "_view_module": "@jupyter-widgets/controls",
            "_model_module_version": "1.5.0",
            "_view_count": null,
            "_view_module_version": "1.5.0",
            "box_style": "",
            "layout": "IPY_MODEL_9b973db675264e97aee1ede9a9ed4fa4",
            "_model_module": "@jupyter-widgets/controls",
            "children": [
              "IPY_MODEL_b74011424b2b47519e5d905fda12ed63",
              "IPY_MODEL_016cc2cdeabe47f2aaa894f065582925",
              "IPY_MODEL_82dabe17fac447c9835cd56c755ec7a5"
            ]
          }
        },
        "9b973db675264e97aee1ede9a9ed4fa4": {
          "model_module": "@jupyter-widgets/base",
          "model_name": "LayoutModel",
          "model_module_version": "1.2.0",
          "state": {
            "_view_name": "LayoutView",
            "grid_template_rows": null,
            "right": null,
            "justify_content": null,
            "_view_module": "@jupyter-widgets/base",
            "overflow": null,
            "_model_module_version": "1.2.0",
            "_view_count": null,
            "flex_flow": null,
            "width": null,
            "min_width": null,
            "border": null,
            "align_items": null,
            "bottom": null,
            "_model_module": "@jupyter-widgets/base",
            "top": null,
            "grid_column": null,
            "overflow_y": null,
            "overflow_x": null,
            "grid_auto_flow": null,
            "grid_area": null,
            "grid_template_columns": null,
            "flex": null,
            "_model_name": "LayoutModel",
            "justify_items": null,
            "grid_row": null,
            "max_height": null,
            "align_content": null,
            "visibility": null,
            "align_self": null,
            "height": null,
            "min_height": null,
            "padding": null,
            "grid_auto_rows": null,
            "grid_gap": null,
            "max_width": null,
            "order": null,
            "_view_module_version": "1.2.0",
            "grid_template_areas": null,
            "object_position": null,
            "object_fit": null,
            "grid_auto_columns": null,
            "margin": null,
            "display": null,
            "left": null
          }
        },
        "b74011424b2b47519e5d905fda12ed63": {
          "model_module": "@jupyter-widgets/controls",
          "model_name": "HTMLModel",
          "model_module_version": "1.5.0",
          "state": {
            "_view_name": "HTMLView",
            "style": "IPY_MODEL_12369487c38d4cc28ca52b689c85c997",
            "_dom_classes": [],
            "description": "",
            "_model_name": "HTMLModel",
            "placeholder": "​",
            "_view_module": "@jupyter-widgets/controls",
            "_model_module_version": "1.5.0",
            "value": "Downloading: ",
            "_view_count": null,
            "_view_module_version": "1.5.0",
            "description_tooltip": null,
            "_model_module": "@jupyter-widgets/controls",
            "layout": "IPY_MODEL_14e6d9f79149490dac0bfd2be1297298"
          }
        },
        "016cc2cdeabe47f2aaa894f065582925": {
          "model_module": "@jupyter-widgets/controls",
          "model_name": "FloatProgressModel",
          "model_module_version": "1.5.0",
          "state": {
            "_view_name": "ProgressView",
            "style": "IPY_MODEL_f8f36a45725541689e39406871fed2c1",
            "_dom_classes": [],
            "description": "",
            "_model_name": "FloatProgressModel",
            "bar_style": "success",
            "max": 2488,
            "_view_module": "@jupyter-widgets/controls",
            "_model_module_version": "1.5.0",
            "value": 2488,
            "_view_count": null,
            "_view_module_version": "1.5.0",
            "orientation": "horizontal",
            "min": 0,
            "description_tooltip": null,
            "_model_module": "@jupyter-widgets/controls",
            "layout": "IPY_MODEL_a8ec52fa98b44af4a0b40c2f70829368"
          }
        },
        "82dabe17fac447c9835cd56c755ec7a5": {
          "model_module": "@jupyter-widgets/controls",
          "model_name": "HTMLModel",
          "model_module_version": "1.5.0",
          "state": {
            "_view_name": "HTMLView",
            "style": "IPY_MODEL_bfff6bb13d604b79b9879c55eed3f323",
            "_dom_classes": [],
            "description": "",
            "_model_name": "HTMLModel",
            "placeholder": "​",
            "_view_module": "@jupyter-widgets/controls",
            "_model_module_version": "1.5.0",
            "value": " 6.08k/? [00:00&lt;00:00, 136kB/s]",
            "_view_count": null,
            "_view_module_version": "1.5.0",
            "description_tooltip": null,
            "_model_module": "@jupyter-widgets/controls",
            "layout": "IPY_MODEL_b2d32dfb248342d78b9e307e875e097b"
          }
        },
        "12369487c38d4cc28ca52b689c85c997": {
          "model_module": "@jupyter-widgets/controls",
          "model_name": "DescriptionStyleModel",
          "model_module_version": "1.5.0",
          "state": {
            "_view_name": "StyleView",
            "_model_name": "DescriptionStyleModel",
            "description_width": "",
            "_view_module": "@jupyter-widgets/base",
            "_model_module_version": "1.5.0",
            "_view_count": null,
            "_view_module_version": "1.2.0",
            "_model_module": "@jupyter-widgets/controls"
          }
        },
        "14e6d9f79149490dac0bfd2be1297298": {
          "model_module": "@jupyter-widgets/base",
          "model_name": "LayoutModel",
          "model_module_version": "1.2.0",
          "state": {
            "_view_name": "LayoutView",
            "grid_template_rows": null,
            "right": null,
            "justify_content": null,
            "_view_module": "@jupyter-widgets/base",
            "overflow": null,
            "_model_module_version": "1.2.0",
            "_view_count": null,
            "flex_flow": null,
            "width": null,
            "min_width": null,
            "border": null,
            "align_items": null,
            "bottom": null,
            "_model_module": "@jupyter-widgets/base",
            "top": null,
            "grid_column": null,
            "overflow_y": null,
            "overflow_x": null,
            "grid_auto_flow": null,
            "grid_area": null,
            "grid_template_columns": null,
            "flex": null,
            "_model_name": "LayoutModel",
            "justify_items": null,
            "grid_row": null,
            "max_height": null,
            "align_content": null,
            "visibility": null,
            "align_self": null,
            "height": null,
            "min_height": null,
            "padding": null,
            "grid_auto_rows": null,
            "grid_gap": null,
            "max_width": null,
            "order": null,
            "_view_module_version": "1.2.0",
            "grid_template_areas": null,
            "object_position": null,
            "object_fit": null,
            "grid_auto_columns": null,
            "margin": null,
            "display": null,
            "left": null
          }
        },
        "f8f36a45725541689e39406871fed2c1": {
          "model_module": "@jupyter-widgets/controls",
          "model_name": "ProgressStyleModel",
          "model_module_version": "1.5.0",
          "state": {
            "_view_name": "StyleView",
            "_model_name": "ProgressStyleModel",
            "description_width": "",
            "_view_module": "@jupyter-widgets/base",
            "_model_module_version": "1.5.0",
            "_view_count": null,
            "_view_module_version": "1.2.0",
            "bar_color": null,
            "_model_module": "@jupyter-widgets/controls"
          }
        },
        "a8ec52fa98b44af4a0b40c2f70829368": {
          "model_module": "@jupyter-widgets/base",
          "model_name": "LayoutModel",
          "model_module_version": "1.2.0",
          "state": {
            "_view_name": "LayoutView",
            "grid_template_rows": null,
            "right": null,
            "justify_content": null,
            "_view_module": "@jupyter-widgets/base",
            "overflow": null,
            "_model_module_version": "1.2.0",
            "_view_count": null,
            "flex_flow": null,
            "width": null,
            "min_width": null,
            "border": null,
            "align_items": null,
            "bottom": null,
            "_model_module": "@jupyter-widgets/base",
            "top": null,
            "grid_column": null,
            "overflow_y": null,
            "overflow_x": null,
            "grid_auto_flow": null,
            "grid_area": null,
            "grid_template_columns": null,
            "flex": null,
            "_model_name": "LayoutModel",
            "justify_items": null,
            "grid_row": null,
            "max_height": null,
            "align_content": null,
            "visibility": null,
            "align_self": null,
            "height": null,
            "min_height": null,
            "padding": null,
            "grid_auto_rows": null,
            "grid_gap": null,
            "max_width": null,
            "order": null,
            "_view_module_version": "1.2.0",
            "grid_template_areas": null,
            "object_position": null,
            "object_fit": null,
            "grid_auto_columns": null,
            "margin": null,
            "display": null,
            "left": null
          }
        },
        "bfff6bb13d604b79b9879c55eed3f323": {
          "model_module": "@jupyter-widgets/controls",
          "model_name": "DescriptionStyleModel",
          "model_module_version": "1.5.0",
          "state": {
            "_view_name": "StyleView",
            "_model_name": "DescriptionStyleModel",
            "description_width": "",
            "_view_module": "@jupyter-widgets/base",
            "_model_module_version": "1.5.0",
            "_view_count": null,
            "_view_module_version": "1.2.0",
            "_model_module": "@jupyter-widgets/controls"
          }
        },
        "b2d32dfb248342d78b9e307e875e097b": {
          "model_module": "@jupyter-widgets/base",
          "model_name": "LayoutModel",
          "model_module_version": "1.2.0",
          "state": {
            "_view_name": "LayoutView",
            "grid_template_rows": null,
            "right": null,
            "justify_content": null,
            "_view_module": "@jupyter-widgets/base",
            "overflow": null,
            "_model_module_version": "1.2.0",
            "_view_count": null,
            "flex_flow": null,
            "width": null,
            "min_width": null,
            "border": null,
            "align_items": null,
            "bottom": null,
            "_model_module": "@jupyter-widgets/base",
            "top": null,
            "grid_column": null,
            "overflow_y": null,
            "overflow_x": null,
            "grid_auto_flow": null,
            "grid_area": null,
            "grid_template_columns": null,
            "flex": null,
            "_model_name": "LayoutModel",
            "justify_items": null,
            "grid_row": null,
            "max_height": null,
            "align_content": null,
            "visibility": null,
            "align_self": null,
            "height": null,
            "min_height": null,
            "padding": null,
            "grid_auto_rows": null,
            "grid_gap": null,
            "max_width": null,
            "order": null,
            "_view_module_version": "1.2.0",
            "grid_template_areas": null,
            "object_position": null,
            "object_fit": null,
            "grid_auto_columns": null,
            "margin": null,
            "display": null,
            "left": null
          }
        },
        "9a3d470e0cf94d9180fe0baeb8efd720": {
          "model_module": "@jupyter-widgets/controls",
          "model_name": "HBoxModel",
          "model_module_version": "1.5.0",
          "state": {
            "_view_name": "HBoxView",
            "_dom_classes": [],
            "_model_name": "HBoxModel",
            "_view_module": "@jupyter-widgets/controls",
            "_model_module_version": "1.5.0",
            "_view_count": null,
            "_view_module_version": "1.5.0",
            "box_style": "",
            "layout": "IPY_MODEL_2db8121bc89c48e2b771d33623de13dc",
            "_model_module": "@jupyter-widgets/controls",
            "children": [
              "IPY_MODEL_fe265960132c4e46a5bf8f60042c2233",
              "IPY_MODEL_bd1b5a19586541cca6cb53f5a26a9bc0",
              "IPY_MODEL_edc81e1a9b58410a9221b64299045961"
            ]
          }
        },
        "2db8121bc89c48e2b771d33623de13dc": {
          "model_module": "@jupyter-widgets/base",
          "model_name": "LayoutModel",
          "model_module_version": "1.2.0",
          "state": {
            "_view_name": "LayoutView",
            "grid_template_rows": null,
            "right": null,
            "justify_content": null,
            "_view_module": "@jupyter-widgets/base",
            "overflow": null,
            "_model_module_version": "1.2.0",
            "_view_count": null,
            "flex_flow": null,
            "width": null,
            "min_width": null,
            "border": null,
            "align_items": null,
            "bottom": null,
            "_model_module": "@jupyter-widgets/base",
            "top": null,
            "grid_column": null,
            "overflow_y": null,
            "overflow_x": null,
            "grid_auto_flow": null,
            "grid_area": null,
            "grid_template_columns": null,
            "flex": null,
            "_model_name": "LayoutModel",
            "justify_items": null,
            "grid_row": null,
            "max_height": null,
            "align_content": null,
            "visibility": null,
            "align_self": null,
            "height": null,
            "min_height": null,
            "padding": null,
            "grid_auto_rows": null,
            "grid_gap": null,
            "max_width": null,
            "order": null,
            "_view_module_version": "1.2.0",
            "grid_template_areas": null,
            "object_position": null,
            "object_fit": null,
            "grid_auto_columns": null,
            "margin": null,
            "display": null,
            "left": null
          }
        },
        "fe265960132c4e46a5bf8f60042c2233": {
          "model_module": "@jupyter-widgets/controls",
          "model_name": "HTMLModel",
          "model_module_version": "1.5.0",
          "state": {
            "_view_name": "HTMLView",
            "style": "IPY_MODEL_b8dc1b1e2f494ba6984906313f517df7",
            "_dom_classes": [],
            "description": "",
            "_model_name": "HTMLModel",
            "placeholder": "​",
            "_view_module": "@jupyter-widgets/controls",
            "_model_module_version": "1.5.0",
            "value": "Downloading: ",
            "_view_count": null,
            "_view_module_version": "1.5.0",
            "description_tooltip": null,
            "_model_module": "@jupyter-widgets/controls",
            "layout": "IPY_MODEL_5c84a44b2f37475ca65e15bc0a2e733c"
          }
        },
        "bd1b5a19586541cca6cb53f5a26a9bc0": {
          "model_module": "@jupyter-widgets/controls",
          "model_name": "FloatProgressModel",
          "model_module_version": "1.5.0",
          "state": {
            "_view_name": "ProgressView",
            "style": "IPY_MODEL_8376777788bd47aa9da70f11d1cd5e0f",
            "_dom_classes": [],
            "description": "",
            "_model_name": "FloatProgressModel",
            "bar_style": "success",
            "max": 1554,
            "_view_module": "@jupyter-widgets/controls",
            "_model_module_version": "1.5.0",
            "value": 1554,
            "_view_count": null,
            "_view_module_version": "1.5.0",
            "orientation": "horizontal",
            "min": 0,
            "description_tooltip": null,
            "_model_module": "@jupyter-widgets/controls",
            "layout": "IPY_MODEL_6d42b9e2762b4de7ba8491e3221f61e0"
          }
        },
        "edc81e1a9b58410a9221b64299045961": {
          "model_module": "@jupyter-widgets/controls",
          "model_name": "HTMLModel",
          "model_module_version": "1.5.0",
          "state": {
            "_view_name": "HTMLView",
            "style": "IPY_MODEL_56e69ee73e86412fbc1d1200008972dc",
            "_dom_classes": [],
            "description": "",
            "_model_name": "HTMLModel",
            "placeholder": "​",
            "_view_module": "@jupyter-widgets/controls",
            "_model_module_version": "1.5.0",
            "value": " 4.07k/? [00:00&lt;00:00, 103kB/s]",
            "_view_count": null,
            "_view_module_version": "1.5.0",
            "description_tooltip": null,
            "_model_module": "@jupyter-widgets/controls",
            "layout": "IPY_MODEL_c826fb68e3534bcc80e7c0fcb08fb2aa"
          }
        },
        "b8dc1b1e2f494ba6984906313f517df7": {
          "model_module": "@jupyter-widgets/controls",
          "model_name": "DescriptionStyleModel",
          "model_module_version": "1.5.0",
          "state": {
            "_view_name": "StyleView",
            "_model_name": "DescriptionStyleModel",
            "description_width": "",
            "_view_module": "@jupyter-widgets/base",
            "_model_module_version": "1.5.0",
            "_view_count": null,
            "_view_module_version": "1.2.0",
            "_model_module": "@jupyter-widgets/controls"
          }
        },
        "5c84a44b2f37475ca65e15bc0a2e733c": {
          "model_module": "@jupyter-widgets/base",
          "model_name": "LayoutModel",
          "model_module_version": "1.2.0",
          "state": {
            "_view_name": "LayoutView",
            "grid_template_rows": null,
            "right": null,
            "justify_content": null,
            "_view_module": "@jupyter-widgets/base",
            "overflow": null,
            "_model_module_version": "1.2.0",
            "_view_count": null,
            "flex_flow": null,
            "width": null,
            "min_width": null,
            "border": null,
            "align_items": null,
            "bottom": null,
            "_model_module": "@jupyter-widgets/base",
            "top": null,
            "grid_column": null,
            "overflow_y": null,
            "overflow_x": null,
            "grid_auto_flow": null,
            "grid_area": null,
            "grid_template_columns": null,
            "flex": null,
            "_model_name": "LayoutModel",
            "justify_items": null,
            "grid_row": null,
            "max_height": null,
            "align_content": null,
            "visibility": null,
            "align_self": null,
            "height": null,
            "min_height": null,
            "padding": null,
            "grid_auto_rows": null,
            "grid_gap": null,
            "max_width": null,
            "order": null,
            "_view_module_version": "1.2.0",
            "grid_template_areas": null,
            "object_position": null,
            "object_fit": null,
            "grid_auto_columns": null,
            "margin": null,
            "display": null,
            "left": null
          }
        },
        "8376777788bd47aa9da70f11d1cd5e0f": {
          "model_module": "@jupyter-widgets/controls",
          "model_name": "ProgressStyleModel",
          "model_module_version": "1.5.0",
          "state": {
            "_view_name": "StyleView",
            "_model_name": "ProgressStyleModel",
            "description_width": "",
            "_view_module": "@jupyter-widgets/base",
            "_model_module_version": "1.5.0",
            "_view_count": null,
            "_view_module_version": "1.2.0",
            "bar_color": null,
            "_model_module": "@jupyter-widgets/controls"
          }
        },
        "6d42b9e2762b4de7ba8491e3221f61e0": {
          "model_module": "@jupyter-widgets/base",
          "model_name": "LayoutModel",
          "model_module_version": "1.2.0",
          "state": {
            "_view_name": "LayoutView",
            "grid_template_rows": null,
            "right": null,
            "justify_content": null,
            "_view_module": "@jupyter-widgets/base",
            "overflow": null,
            "_model_module_version": "1.2.0",
            "_view_count": null,
            "flex_flow": null,
            "width": null,
            "min_width": null,
            "border": null,
            "align_items": null,
            "bottom": null,
            "_model_module": "@jupyter-widgets/base",
            "top": null,
            "grid_column": null,
            "overflow_y": null,
            "overflow_x": null,
            "grid_auto_flow": null,
            "grid_area": null,
            "grid_template_columns": null,
            "flex": null,
            "_model_name": "LayoutModel",
            "justify_items": null,
            "grid_row": null,
            "max_height": null,
            "align_content": null,
            "visibility": null,
            "align_self": null,
            "height": null,
            "min_height": null,
            "padding": null,
            "grid_auto_rows": null,
            "grid_gap": null,
            "max_width": null,
            "order": null,
            "_view_module_version": "1.2.0",
            "grid_template_areas": null,
            "object_position": null,
            "object_fit": null,
            "grid_auto_columns": null,
            "margin": null,
            "display": null,
            "left": null
          }
        },
        "56e69ee73e86412fbc1d1200008972dc": {
          "model_module": "@jupyter-widgets/controls",
          "model_name": "DescriptionStyleModel",
          "model_module_version": "1.5.0",
          "state": {
            "_view_name": "StyleView",
            "_model_name": "DescriptionStyleModel",
            "description_width": "",
            "_view_module": "@jupyter-widgets/base",
            "_model_module_version": "1.5.0",
            "_view_count": null,
            "_view_module_version": "1.2.0",
            "_model_module": "@jupyter-widgets/controls"
          }
        },
        "c826fb68e3534bcc80e7c0fcb08fb2aa": {
          "model_module": "@jupyter-widgets/base",
          "model_name": "LayoutModel",
          "model_module_version": "1.2.0",
          "state": {
            "_view_name": "LayoutView",
            "grid_template_rows": null,
            "right": null,
            "justify_content": null,
            "_view_module": "@jupyter-widgets/base",
            "overflow": null,
            "_model_module_version": "1.2.0",
            "_view_count": null,
            "flex_flow": null,
            "width": null,
            "min_width": null,
            "border": null,
            "align_items": null,
            "bottom": null,
            "_model_module": "@jupyter-widgets/base",
            "top": null,
            "grid_column": null,
            "overflow_y": null,
            "overflow_x": null,
            "grid_auto_flow": null,
            "grid_area": null,
            "grid_template_columns": null,
            "flex": null,
            "_model_name": "LayoutModel",
            "justify_items": null,
            "grid_row": null,
            "max_height": null,
            "align_content": null,
            "visibility": null,
            "align_self": null,
            "height": null,
            "min_height": null,
            "padding": null,
            "grid_auto_rows": null,
            "grid_gap": null,
            "max_width": null,
            "order": null,
            "_view_module_version": "1.2.0",
            "grid_template_areas": null,
            "object_position": null,
            "object_fit": null,
            "grid_auto_columns": null,
            "margin": null,
            "display": null,
            "left": null
          }
        }
      }
    }
  },
  "cells": [
    {
      "cell_type": "markdown",
      "metadata": {
        "id": "view-in-github",
        "colab_type": "text"
      },
      "source": [
        "<a href=\"https://colab.research.google.com/github/danielsaggau/deep_unsupervised_learning/blob/main/Eval_Commonsense_reasoning.ipynb\" target=\"_parent\"><img src=\"https://colab.research.google.com/assets/colab-badge.svg\" alt=\"Open In Colab\"/></a>"
      ]
    },
    {
      "cell_type": "code",
      "metadata": {
        "id": "HE3lZZRZLVzu"
      },
      "source": [
        "!pip install datasets\n",
        "!pip install rouge-score\n",
        "from datasets import load_dataset, load_metric\n",
        "rouge = load_metric('rouge')"
      ],
      "execution_count": null,
      "outputs": []
    },
    {
      "cell_type": "code",
      "metadata": {
        "id": "PjnADQLDMvB7"
      },
      "source": [
        "!pip install git+https://github.com/google-research/bleurt.git\n",
        "bleurt= load_metric('bleurt')"
      ],
      "execution_count": null,
      "outputs": []
    },
    {
      "cell_type": "code",
      "metadata": {
        "id": "rC_vLerPLrmJ"
      },
      "source": [
        "import pandas as pd "
      ],
      "execution_count": null,
      "outputs": []
    },
    {
      "cell_type": "code",
      "metadata": {
        "id": "2YjP3Ck1MihF"
      },
      "source": [
        "df = pd.read_csv(\"/content/scores-5.tsv\", sep='\\t')"
      ],
      "execution_count": 89,
      "outputs": []
    },
    {
      "cell_type": "code",
      "metadata": {
        "colab": {
          "base_uri": "https://localhost:8080/",
          "height": 1000
        },
        "id": "dE2U_OBgPAao",
        "outputId": "6da3e3f2-b2ea-47a7-a200-a443c54a93a3"
      },
      "source": [
        "df.head(100)"
      ],
      "execution_count": 90,
      "outputs": [
        {
          "output_type": "execute_result",
          "data": {
            "text/html": [
              "<div>\n",
              "<style scoped>\n",
              "    .dataframe tbody tr th:only-of-type {\n",
              "        vertical-align: middle;\n",
              "    }\n",
              "\n",
              "    .dataframe tbody tr th {\n",
              "        vertical-align: top;\n",
              "    }\n",
              "\n",
              "    .dataframe thead th {\n",
              "        text-align: right;\n",
              "    }\n",
              "</style>\n",
              "<table border=\"1\" class=\"dataframe\">\n",
              "  <thead>\n",
              "    <tr style=\"text-align: right;\">\n",
              "      <th></th>\n",
              "      <th>premise</th>\n",
              "      <th>initial</th>\n",
              "      <th>counterfactual</th>\n",
              "      <th>original_ending</th>\n",
              "      <th>generated_ending</th>\n",
              "      <th>bert_o1h1</th>\n",
              "      <th>bert_o1h123</th>\n",
              "      <th>bert_consec</th>\n",
              "    </tr>\n",
              "  </thead>\n",
              "  <tbody>\n",
              "    <tr>\n",
              "      <th>0</th>\n",
              "      <td>The soccer game was tied 3 to 3 and there was ...</td>\n",
              "      <td>Julie had never scored a goal yet, but knew to...</td>\n",
              "      <td>Julie was eagerly watching the game in the sta...</td>\n",
              "      <td>Ashley passed her the ball and this was chance...</td>\n",
              "      <td>She was excited to see the game and she was ex...</td>\n",
              "      <td>5.073396</td>\n",
              "      <td>5.263060</td>\n",
              "      <td>4.562399</td>\n",
              "    </tr>\n",
              "    <tr>\n",
              "      <th>1</th>\n",
              "      <td>The soccer game was tied 3 to 3 and there was ...</td>\n",
              "      <td>Julie had never scored a goal yet, but knew to...</td>\n",
              "      <td>Julie was eagerly watching the game in the sta...</td>\n",
              "      <td>Ashley passed her the ball and this was chance...</td>\n",
              "      <td>She was excited to see the game was tied. She ...</td>\n",
              "      <td>-1.000000</td>\n",
              "      <td>-1.000000</td>\n",
              "      <td>-1.000000</td>\n",
              "    </tr>\n",
              "    <tr>\n",
              "      <th>2</th>\n",
              "      <td>The soccer game was tied 3 to 3 and there was ...</td>\n",
              "      <td>Julie had never scored a goal yet, but knew to...</td>\n",
              "      <td>Julie was eagerly watching the game in the sta...</td>\n",
              "      <td>Ashley passed her the ball and this was chance...</td>\n",
              "      <td>She was excited to see the game was tied. She ...</td>\n",
              "      <td>5.194336</td>\n",
              "      <td>5.291403</td>\n",
              "      <td>4.074866</td>\n",
              "    </tr>\n",
              "    <tr>\n",
              "      <th>3</th>\n",
              "      <td>The soccer game was tied 3 to 3 and there was ...</td>\n",
              "      <td>Julie had never scored a goal yet, but knew to...</td>\n",
              "      <td>Julie was eagerly watching the game in the sta...</td>\n",
              "      <td>Ashley passed her the ball and this was chance...</td>\n",
              "      <td>She was excited to see the game was tied. She ...</td>\n",
              "      <td>5.194336</td>\n",
              "      <td>5.283901</td>\n",
              "      <td>4.788580</td>\n",
              "    </tr>\n",
              "    <tr>\n",
              "      <th>4</th>\n",
              "      <td>The soccer game was tied 3 to 3 and there was ...</td>\n",
              "      <td>Julie had never scored a goal yet, but knew to...</td>\n",
              "      <td>Julie was eagerly watching the game in the sta...</td>\n",
              "      <td>Ashley passed her the ball and this was chance...</td>\n",
              "      <td>She was excited to see the game was tied. She ...</td>\n",
              "      <td>5.194336</td>\n",
              "      <td>5.289207</td>\n",
              "      <td>4.345787</td>\n",
              "    </tr>\n",
              "    <tr>\n",
              "      <th>...</th>\n",
              "      <td>...</td>\n",
              "      <td>...</td>\n",
              "      <td>...</td>\n",
              "      <td>...</td>\n",
              "      <td>...</td>\n",
              "      <td>...</td>\n",
              "      <td>...</td>\n",
              "      <td>...</td>\n",
              "    </tr>\n",
              "    <tr>\n",
              "      <th>95</th>\n",
              "      <td>Dana thought his girlfriend's roommate liked him.</td>\n",
              "      <td>But tonight he found out how much.</td>\n",
              "      <td>He was ready to make a move on her tonight.</td>\n",
              "      <td>He showed at his girlfriend's home and her roo...</td>\n",
              "      <td>He was ready to get down on his knees and beg ...</td>\n",
              "      <td>4.822794</td>\n",
              "      <td>5.274994</td>\n",
              "      <td>3.261573</td>\n",
              "    </tr>\n",
              "    <tr>\n",
              "      <th>96</th>\n",
              "      <td>Dana thought his girlfriend's roommate liked him.</td>\n",
              "      <td>But tonight he found out how much.</td>\n",
              "      <td>He was ready to make a move on her tonight.</td>\n",
              "      <td>He showed at his girlfriend's home and her roo...</td>\n",
              "      <td>He was ready to get down on his knees and beg ...</td>\n",
              "      <td>4.822794</td>\n",
              "      <td>5.275636</td>\n",
              "      <td>3.189816</td>\n",
              "    </tr>\n",
              "    <tr>\n",
              "      <th>97</th>\n",
              "      <td>Dana thought his girlfriend's roommate liked him.</td>\n",
              "      <td>But tonight he found out how much.</td>\n",
              "      <td>He was ready to make a move on her tonight.</td>\n",
              "      <td>He showed at his girlfriend's home and her roo...</td>\n",
              "      <td>He was ready to get down on his knees and beg ...</td>\n",
              "      <td>4.776158</td>\n",
              "      <td>5.251495</td>\n",
              "      <td>3.729368</td>\n",
              "    </tr>\n",
              "    <tr>\n",
              "      <th>98</th>\n",
              "      <td>Dana thought his girlfriend's roommate liked him.</td>\n",
              "      <td>But tonight he found out how much.</td>\n",
              "      <td>He was ready to make a move on her tonight.</td>\n",
              "      <td>He showed at his girlfriend's home and her roo...</td>\n",
              "      <td>He was ready to get down on his knees and beg ...</td>\n",
              "      <td>4.822794</td>\n",
              "      <td>5.276158</td>\n",
              "      <td>3.246888</td>\n",
              "    </tr>\n",
              "    <tr>\n",
              "      <th>99</th>\n",
              "      <td>Dana thought his girlfriend's roommate liked him.</td>\n",
              "      <td>But tonight he found out how much.</td>\n",
              "      <td>He was ready to make a move on her tonight.</td>\n",
              "      <td>He showed at his girlfriend's home and her roo...</td>\n",
              "      <td>He was ready to get down on his knees and beg ...</td>\n",
              "      <td>4.822794</td>\n",
              "      <td>5.275350</td>\n",
              "      <td>3.272049</td>\n",
              "    </tr>\n",
              "  </tbody>\n",
              "</table>\n",
              "<p>100 rows × 8 columns</p>\n",
              "</div>"
            ],
            "text/plain": [
              "                                              premise  ... bert_consec\n",
              "0   The soccer game was tied 3 to 3 and there was ...  ...    4.562399\n",
              "1   The soccer game was tied 3 to 3 and there was ...  ...   -1.000000\n",
              "2   The soccer game was tied 3 to 3 and there was ...  ...    4.074866\n",
              "3   The soccer game was tied 3 to 3 and there was ...  ...    4.788580\n",
              "4   The soccer game was tied 3 to 3 and there was ...  ...    4.345787\n",
              "..                                                ...  ...         ...\n",
              "95  Dana thought his girlfriend's roommate liked him.  ...    3.261573\n",
              "96  Dana thought his girlfriend's roommate liked him.  ...    3.189816\n",
              "97  Dana thought his girlfriend's roommate liked him.  ...    3.729368\n",
              "98  Dana thought his girlfriend's roommate liked him.  ...    3.246888\n",
              "99  Dana thought his girlfriend's roommate liked him.  ...    3.272049\n",
              "\n",
              "[100 rows x 8 columns]"
            ]
          },
          "metadata": {},
          "execution_count": 90
        }
      ]
    },
    {
      "cell_type": "code",
      "metadata": {
        "id": "QFV3yUOYMou8"
      },
      "source": [
        "rouge_result = rouge.compute(predictions=df[\"generated_ending\"], references=df[\"original_ending\"])\n",
        "bleurt_score = bleurt.compute(predictions=df[\"generated_ending\"], references=df[\"original_ending\"])"
      ],
      "execution_count": null,
      "outputs": []
    },
    {
      "cell_type": "code",
      "metadata": {
        "id": "rdiWUrBcNOvH"
      },
      "source": [
        "import numpy as np\n",
        "billsum_bleurt_score"
      ],
      "execution_count": null,
      "outputs": []
    },
    {
      "cell_type": "code",
      "metadata": {
        "id": "Z96C4xBqOmXH"
      },
      "source": [
        "data = df['generated_ending'] != 'DEPRECATED'"
      ],
      "execution_count": null,
      "outputs": []
    },
    {
      "cell_type": "code",
      "metadata": {
        "id": "ezYYzaqUPRqG"
      },
      "source": [
        "df1 = df[(df['generated_ending'] != 'DEPRECATED')]\n",
        "df1 = df1[(df1['bert_o1h1']!=-1.000000)]"
      ],
      "execution_count": null,
      "outputs": []
    },
    {
      "cell_type": "code",
      "metadata": {
        "id": "-qXUWi_QPZaU"
      },
      "source": [
        "rouge_result = rouge.compute(predictions=df1[\"generated_ending\"], references=df1[\"original_ending\"])\n",
        "bleurt_score = bleurt.compute(predictions=df1[\"generated_ending\"], references=df1[\"original_ending\"])"
      ],
      "execution_count": 45,
      "outputs": []
    },
    {
      "cell_type": "code",
      "metadata": {
        "id": "o5mkxsaWV5LM"
      },
      "source": [
        "dataframe = pd.DataFrame(bleurt_score)\n",
        "dataframe.to_csv('/content/bleurt_score_timetravel.csv', index = False)"
      ],
      "execution_count": 46,
      "outputs": []
    },
    {
      "cell_type": "code",
      "metadata": {
        "colab": {
          "base_uri": "https://localhost:8080/"
        },
        "id": "Ms-4E4KeQRd6",
        "outputId": "55c578db-19d7-430d-df85-a5321ce1103e"
      },
      "source": [
        "rouge_result"
      ],
      "execution_count": null,
      "outputs": [
        {
          "output_type": "execute_result",
          "data": {
            "text/plain": [
              "{'rouge1': AggregateScore(low=Score(precision=0.3153744697580977, recall=0.35271890514388343, fmeasure=0.3256886010680627), mid=Score(precision=0.3339658590013237, recall=0.372351625516655, fmeasure=0.34384114803726246), high=Score(precision=0.3553593992998121, recall=0.3932323430476005, fmeasure=0.36322194731074636)),\n",
              " 'rouge2': AggregateScore(low=Score(precision=0.12654384131765042, recall=0.14345244945995295, fmeasure=0.13117788378396406), mid=Score(precision=0.14531502521487705, recall=0.1642867989495327, fmeasure=0.14979906746933713), high=Score(precision=0.16610127725313528, recall=0.18646504875085093, fmeasure=0.17038992620197416)),\n",
              " 'rougeL': AggregateScore(low=Score(precision=0.2855920171713697, recall=0.3182361262198892, fmeasure=0.29475035039443453), mid=Score(precision=0.3041765794628445, recall=0.33784868032002713, fmeasure=0.31194176844890603), high=Score(precision=0.32327007560522014, recall=0.35878621587914894, fmeasure=0.3299072465805167)),\n",
              " 'rougeLsum': AggregateScore(low=Score(precision=0.28525892541868314, recall=0.32028980282484654, fmeasure=0.29570761105234417), mid=Score(precision=0.3037817287557175, recall=0.3381918744686989, fmeasure=0.31207418031478085), high=Score(precision=0.32404080699335674, recall=0.3583185109029791, fmeasure=0.33116553211592975))}"
            ]
          },
          "metadata": {},
          "execution_count": 42
        }
      ]
    },
    {
      "cell_type": "code",
      "metadata": {
        "id": "lvDllZ8RSBH-"
      },
      "source": [
        "bleurt_score"
      ],
      "execution_count": null,
      "outputs": []
    },
    {
      "cell_type": "code",
      "metadata": {
        "id": "MJHZqA-CW7uu"
      },
      "source": [
        "!pip install bert_score\n",
        "bertscore = load_metric('bertscore', lang=\"en\")"
      ],
      "execution_count": null,
      "outputs": []
    },
    {
      "cell_type": "code",
      "metadata": {
        "id": "CT_zVGvNXovI"
      },
      "source": [
        "bertscore_scores = bertscore.compute(predictions=df1[\"generated_ending\"], references=df1[\"original_ending\"], lang =\"en\")"
      ],
      "execution_count": null,
      "outputs": []
    },
    {
      "cell_type": "code",
      "metadata": {
        "id": "9hqY4FDjYmjy"
      },
      "source": [
        "bertscore_scores"
      ],
      "execution_count": null,
      "outputs": []
    },
    {
      "cell_type": "code",
      "metadata": {
        "id": "-tEP9iJja2ZM"
      },
      "source": [
        "dataframe = pd.DataFrame(bertscore_scores)\n",
        "dataframe.to_csv('/content/bertscore_score_timetravel.csv', index = False)"
      ],
      "execution_count": 55,
      "outputs": []
    },
    {
      "cell_type": "code",
      "metadata": {
        "id": "VXxXaVrAbrPL"
      },
      "source": [
        "df = pd.read_csv(\"/content/scores-5.tsv\", sep='\\t')"
      ],
      "execution_count": null,
      "outputs": []
    },
    {
      "cell_type": "code",
      "metadata": {
        "id": "VULB_O8AglVJ"
      },
      "source": [
        "df = pd.read_excel(\"/content/art_results.xlsx\")"
      ],
      "execution_count": 58,
      "outputs": []
    },
    {
      "cell_type": "code",
      "metadata": {
        "colab": {
          "base_uri": "https://localhost:8080/",
          "height": 365
        },
        "id": "4gjVGlo4g1XA",
        "outputId": "10b25670-5166-4bbc-9a9e-22cb62b89fde"
      },
      "source": [
        "df.head()"
      ],
      "execution_count": 59,
      "outputs": [
        {
          "output_type": "execute_result",
          "data": {
            "text/html": [
              "<div>\n",
              "<style scoped>\n",
              "    .dataframe tbody tr th:only-of-type {\n",
              "        vertical-align: middle;\n",
              "    }\n",
              "\n",
              "    .dataframe tbody tr th {\n",
              "        vertical-align: top;\n",
              "    }\n",
              "\n",
              "    .dataframe thead th {\n",
              "        text-align: right;\n",
              "    }\n",
              "</style>\n",
              "<table border=\"1\" class=\"dataframe\">\n",
              "  <thead>\n",
              "    <tr style=\"text-align: right;\">\n",
              "      <th></th>\n",
              "      <th>o1o2</th>\n",
              "      <th>01ho2</th>\n",
              "      <th>h</th>\n",
              "      <th>bertscore</th>\n",
              "    </tr>\n",
              "  </thead>\n",
              "  <tbody>\n",
              "    <tr>\n",
              "      <th>0</th>\n",
              "      <td>The Smiths were having holidays done of the ch...</td>\n",
              "      <td>The Smiths were having holidays done of the ch...</td>\n",
              "      <td>'I'm going to Christmas with my kids,' he said...</td>\n",
              "      <td>-3.021179</td>\n",
              "    </tr>\n",
              "    <tr>\n",
              "      <th>1</th>\n",
              "      <td>The Smiths were having holidays done of the ch...</td>\n",
              "      <td>The Smiths were having holidays done of the ch...</td>\n",
              "      <td>So, when the band's drummer, John Lydon, was a...</td>\n",
              "      <td>1.465057</td>\n",
              "    </tr>\n",
              "    <tr>\n",
              "      <th>2</th>\n",
              "      <td>The Smiths were having holidays done of the ch...</td>\n",
              "      <td>The Smiths were having holidays done of the ch...</td>\n",
              "      <td>The Smiths were having holidays done of the ch...</td>\n",
              "      <td>2.160378</td>\n",
              "    </tr>\n",
              "    <tr>\n",
              "      <th>3</th>\n",
              "      <td>The Smiths were having holidays done of the ch...</td>\n",
              "      <td>The Smiths were having holidays done of the ch...</td>\n",
              "      <td>But the children were the ones who were going ...</td>\n",
              "      <td>1.075191</td>\n",
              "    </tr>\n",
              "    <tr>\n",
              "      <th>4</th>\n",
              "      <td>The Smiths were having holidays done of the ch...</td>\n",
              "      <td>The Smiths were having holidays done of the ch...</td>\n",
              "      <td>It was a holiday that had to last, the children.</td>\n",
              "      <td>1.555301</td>\n",
              "    </tr>\n",
              "  </tbody>\n",
              "</table>\n",
              "</div>"
            ],
            "text/plain": [
              "                                                o1o2  ... bertscore\n",
              "0  The Smiths were having holidays done of the ch...  ... -3.021179\n",
              "1  The Smiths were having holidays done of the ch...  ...  1.465057\n",
              "2  The Smiths were having holidays done of the ch...  ...  2.160378\n",
              "3  The Smiths were having holidays done of the ch...  ...  1.075191\n",
              "4  The Smiths were having holidays done of the ch...  ...  1.555301\n",
              "\n",
              "[5 rows x 4 columns]"
            ]
          },
          "metadata": {},
          "execution_count": 59
        }
      ]
    },
    {
      "cell_type": "markdown",
      "metadata": {
        "id": "Ch4STt6Hi1aJ"
      },
      "source": [
        "# ROUGE"
      ]
    },
    {
      "cell_type": "code",
      "metadata": {
        "id": "H_NVGLNng41j"
      },
      "source": [
        "df1 = df[(df['h'] != 'DEPRECATED')]\n",
        "rouge_result = rouge.compute(predictions=df1[\"h\"], references=df1[\"o1o2\"])"
      ],
      "execution_count": 60,
      "outputs": []
    },
    {
      "cell_type": "code",
      "metadata": {
        "colab": {
          "base_uri": "https://localhost:8080/"
        },
        "id": "RPMc97dnhCeq",
        "outputId": "7de88655-5679-4219-ff0c-17adec02d902"
      },
      "source": [
        "rouge_result"
      ],
      "execution_count": 61,
      "outputs": [
        {
          "output_type": "execute_result",
          "data": {
            "text/plain": [
              "{'rouge1': AggregateScore(low=Score(precision=0.1911553678839478, recall=0.2698484813471026, fmeasure=0.21452217467922524), mid=Score(precision=0.19860056402257464, recall=0.2814744487722663, fmeasure=0.22226936630804323), high=Score(precision=0.2053192384117574, recall=0.29407139302128443, fmeasure=0.23015808577395913)),\n",
              " 'rouge2': AggregateScore(low=Score(precision=0.04698235646823535, recall=0.07516637661059819, fmeasure=0.05469267903561734), mid=Score(precision=0.052237642210028204, recall=0.08549171120402237, fmeasure=0.06129877291365543), high=Score(precision=0.058340263874542754, recall=0.09766676861611971, fmeasure=0.06876759382924635)),\n",
              " 'rougeL': AggregateScore(low=Score(precision=0.15342718084193185, recall=0.21811634948700004, fmeasure=0.1722394550105437), mid=Score(precision=0.1592612259006223, recall=0.2289550271345976, fmeasure=0.17879126773521198), high=Score(precision=0.16510483323254604, recall=0.23954104641922522, fmeasure=0.18612381806471384)),\n",
              " 'rougeLsum': AggregateScore(low=Score(precision=0.15322152317736595, recall=0.2181867994721307, fmeasure=0.1720486058735138), mid=Score(precision=0.15912818310546176, recall=0.2292525799410317, fmeasure=0.17896256235359875), high=Score(precision=0.16518475600840488, recall=0.23965668077401692, fmeasure=0.18593881960554065))}"
            ]
          },
          "metadata": {},
          "execution_count": 61
        }
      ]
    },
    {
      "cell_type": "code",
      "metadata": {
        "id": "EMi_nuMgiRlo"
      },
      "source": [
        "dataframe = pd.DataFrame(rouge_result)\n",
        "dataframe.to_csv('/content/rouge_score_art.csv', index = False)"
      ],
      "execution_count": null,
      "outputs": []
    },
    {
      "cell_type": "markdown",
      "metadata": {
        "id": "-X-Ou1CLi5ZB"
      },
      "source": [
        "# BERTSCORE"
      ]
    },
    {
      "cell_type": "code",
      "metadata": {
        "id": "DXmhKCMlhNIX"
      },
      "source": [
        "bertscore_scores_art = bertscore.compute(predictions=df1[\"h\"], references=df1[\"o1o2\"], lang =\"en\")"
      ],
      "execution_count": 64,
      "outputs": []
    },
    {
      "cell_type": "code",
      "metadata": {
        "id": "OXDzdhGpjcPF"
      },
      "source": [
        "dataframe = pd.DataFrame(bertscore_scores_art)\n",
        "dataframe.to_csv('/content/bertscore_art.csv', index = False)"
      ],
      "execution_count": 66,
      "outputs": []
    },
    {
      "cell_type": "markdown",
      "metadata": {
        "id": "X1PYMbXrjRL0"
      },
      "source": [
        "#BLEURT"
      ]
    },
    {
      "cell_type": "code",
      "metadata": {
        "id": "LxKz-hsDiLt0"
      },
      "source": [
        "bleurt_result_art = bleurt.compute(predictions=df1[\"h\"], references=df1[\"o1o2\"])"
      ],
      "execution_count": 88,
      "outputs": []
    },
    {
      "cell_type": "code",
      "metadata": {
        "id": "qa0srJrhjioR"
      },
      "source": [
        "dataframe = pd.DataFrame(bleurt_result_art)\n",
        "dataframe.to_csv('/content/bleurt_art.csv', index = False)"
      ],
      "execution_count": 68,
      "outputs": []
    },
    {
      "cell_type": "markdown",
      "metadata": {
        "id": "ze3y8FfTix4y"
      },
      "source": [
        "# BLEU"
      ]
    },
    {
      "cell_type": "code",
      "metadata": {
        "colab": {
          "base_uri": "https://localhost:8080/",
          "height": 81,
          "referenced_widgets": [
            "4b7766fa755d4b34bc6a83a94831eedf",
            "9b973db675264e97aee1ede9a9ed4fa4",
            "b74011424b2b47519e5d905fda12ed63",
            "016cc2cdeabe47f2aaa894f065582925",
            "82dabe17fac447c9835cd56c755ec7a5",
            "12369487c38d4cc28ca52b689c85c997",
            "14e6d9f79149490dac0bfd2be1297298",
            "f8f36a45725541689e39406871fed2c1",
            "a8ec52fa98b44af4a0b40c2f70829368",
            "bfff6bb13d604b79b9879c55eed3f323",
            "b2d32dfb248342d78b9e307e875e097b",
            "9a3d470e0cf94d9180fe0baeb8efd720",
            "2db8121bc89c48e2b771d33623de13dc",
            "fe265960132c4e46a5bf8f60042c2233",
            "bd1b5a19586541cca6cb53f5a26a9bc0",
            "edc81e1a9b58410a9221b64299045961",
            "b8dc1b1e2f494ba6984906313f517df7",
            "5c84a44b2f37475ca65e15bc0a2e733c",
            "8376777788bd47aa9da70f11d1cd5e0f",
            "6d42b9e2762b4de7ba8491e3221f61e0",
            "56e69ee73e86412fbc1d1200008972dc",
            "c826fb68e3534bcc80e7c0fcb08fb2aa"
          ]
        },
        "id": "Og3q5YJXimM_",
        "outputId": "2b5fb37a-148d-420f-f1eb-aafd09e10467"
      },
      "source": [
        "bleu = load_metric(\"bleu\")"
      ],
      "execution_count": 69,
      "outputs": [
        {
          "output_type": "display_data",
          "data": {
            "application/vnd.jupyter.widget-view+json": {
              "model_id": "4b7766fa755d4b34bc6a83a94831eedf",
              "version_minor": 0,
              "version_major": 2
            },
            "text/plain": [
              "Downloading:   0%|          | 0.00/2.49k [00:00<?, ?B/s]"
            ]
          },
          "metadata": {}
        },
        {
          "output_type": "display_data",
          "data": {
            "application/vnd.jupyter.widget-view+json": {
              "model_id": "9a3d470e0cf94d9180fe0baeb8efd720",
              "version_minor": 0,
              "version_major": 2
            },
            "text/plain": [
              "Downloading:   0%|          | 0.00/1.55k [00:00<?, ?B/s]"
            ]
          },
          "metadata": {}
        }
      ]
    },
    {
      "cell_type": "code",
      "metadata": {
        "id": "8vBzm8HVinYp"
      },
      "source": [
        "h= list(df1[\"h\"])\n",
        "ref= list(df1[\"o1o2\"])\n"
      ],
      "execution_count": 77,
      "outputs": []
    },
    {
      "cell_type": "code",
      "metadata": {
        "colab": {
          "base_uri": "https://localhost:8080/",
          "height": 414
        },
        "id": "j7BmiHCDm8-Q",
        "outputId": "a501ec8a-856f-4eaf-deca-1179fa3a3763"
      },
      "source": [
        "bleu_result_art = bleu.compute(predictions=h, references=ref)"
      ],
      "execution_count": 78,
      "outputs": [
        {
          "output_type": "error",
          "ename": "ValueError",
          "evalue": "ignored",
          "traceback": [
            "\u001b[0;31m---------------------------------------------------------------------------\u001b[0m",
            "\u001b[0;31mValueError\u001b[0m                                Traceback (most recent call last)",
            "\u001b[0;32m<ipython-input-78-a529c2e6ddc7>\u001b[0m in \u001b[0;36m<module>\u001b[0;34m()\u001b[0m\n\u001b[0;32m----> 1\u001b[0;31m \u001b[0mbleu_result_art\u001b[0m \u001b[0;34m=\u001b[0m \u001b[0mbleu\u001b[0m\u001b[0;34m.\u001b[0m\u001b[0mcompute\u001b[0m\u001b[0;34m(\u001b[0m\u001b[0mpredictions\u001b[0m\u001b[0;34m=\u001b[0m\u001b[0mh\u001b[0m\u001b[0;34m,\u001b[0m \u001b[0mreferences\u001b[0m\u001b[0;34m=\u001b[0m\u001b[0mref\u001b[0m\u001b[0;34m)\u001b[0m\u001b[0;34m\u001b[0m\u001b[0;34m\u001b[0m\u001b[0m\n\u001b[0m",
            "\u001b[0;32m/usr/local/lib/python3.7/dist-packages/datasets/metric.py\u001b[0m in \u001b[0;36mcompute\u001b[0;34m(self, predictions, references, **kwargs)\u001b[0m\n\u001b[1;32m    388\u001b[0m \u001b[0;34m\u001b[0m\u001b[0m\n\u001b[1;32m    389\u001b[0m         \u001b[0;32mif\u001b[0m \u001b[0mpredictions\u001b[0m \u001b[0;32mis\u001b[0m \u001b[0;32mnot\u001b[0m \u001b[0;32mNone\u001b[0m\u001b[0;34m:\u001b[0m\u001b[0;34m\u001b[0m\u001b[0;34m\u001b[0m\u001b[0m\n\u001b[0;32m--> 390\u001b[0;31m             \u001b[0mself\u001b[0m\u001b[0;34m.\u001b[0m\u001b[0madd_batch\u001b[0m\u001b[0;34m(\u001b[0m\u001b[0mpredictions\u001b[0m\u001b[0;34m=\u001b[0m\u001b[0mpredictions\u001b[0m\u001b[0;34m,\u001b[0m \u001b[0mreferences\u001b[0m\u001b[0;34m=\u001b[0m\u001b[0mreferences\u001b[0m\u001b[0;34m)\u001b[0m\u001b[0;34m\u001b[0m\u001b[0;34m\u001b[0m\u001b[0m\n\u001b[0m\u001b[1;32m    391\u001b[0m         \u001b[0mself\u001b[0m\u001b[0;34m.\u001b[0m\u001b[0m_finalize\u001b[0m\u001b[0;34m(\u001b[0m\u001b[0;34m)\u001b[0m\u001b[0;34m\u001b[0m\u001b[0;34m\u001b[0m\u001b[0m\n\u001b[1;32m    392\u001b[0m \u001b[0;34m\u001b[0m\u001b[0m\n",
            "\u001b[0;32m/usr/local/lib/python3.7/dist-packages/datasets/metric.py\u001b[0m in \u001b[0;36madd_batch\u001b[0;34m(self, predictions, references)\u001b[0m\n\u001b[1;32m    429\u001b[0m         \"\"\"\n\u001b[1;32m    430\u001b[0m         \u001b[0mbatch\u001b[0m \u001b[0;34m=\u001b[0m \u001b[0;34m{\u001b[0m\u001b[0;34m\"predictions\"\u001b[0m\u001b[0;34m:\u001b[0m \u001b[0mpredictions\u001b[0m\u001b[0;34m,\u001b[0m \u001b[0;34m\"references\"\u001b[0m\u001b[0;34m:\u001b[0m \u001b[0mreferences\u001b[0m\u001b[0;34m}\u001b[0m\u001b[0;34m\u001b[0m\u001b[0;34m\u001b[0m\u001b[0m\n\u001b[0;32m--> 431\u001b[0;31m         \u001b[0mbatch\u001b[0m \u001b[0;34m=\u001b[0m \u001b[0mself\u001b[0m\u001b[0;34m.\u001b[0m\u001b[0minfo\u001b[0m\u001b[0;34m.\u001b[0m\u001b[0mfeatures\u001b[0m\u001b[0;34m.\u001b[0m\u001b[0mencode_batch\u001b[0m\u001b[0;34m(\u001b[0m\u001b[0mbatch\u001b[0m\u001b[0;34m)\u001b[0m\u001b[0;34m\u001b[0m\u001b[0;34m\u001b[0m\u001b[0m\n\u001b[0m\u001b[1;32m    432\u001b[0m         \u001b[0;32mif\u001b[0m \u001b[0mself\u001b[0m\u001b[0;34m.\u001b[0m\u001b[0mwriter\u001b[0m \u001b[0;32mis\u001b[0m \u001b[0;32mNone\u001b[0m\u001b[0;34m:\u001b[0m\u001b[0;34m\u001b[0m\u001b[0;34m\u001b[0m\u001b[0m\n\u001b[1;32m    433\u001b[0m             \u001b[0mself\u001b[0m\u001b[0;34m.\u001b[0m\u001b[0m_init_writer\u001b[0m\u001b[0;34m(\u001b[0m\u001b[0;34m)\u001b[0m\u001b[0;34m\u001b[0m\u001b[0;34m\u001b[0m\u001b[0m\n",
            "\u001b[0;32m/usr/local/lib/python3.7/dist-packages/datasets/features.py\u001b[0m in \u001b[0;36mencode_batch\u001b[0;34m(self, batch)\u001b[0m\n\u001b[1;32m   1045\u001b[0m         \u001b[0;32mfor\u001b[0m \u001b[0mkey\u001b[0m\u001b[0;34m,\u001b[0m \u001b[0mcolumn\u001b[0m \u001b[0;32min\u001b[0m \u001b[0mbatch\u001b[0m\u001b[0;34m.\u001b[0m\u001b[0mitems\u001b[0m\u001b[0;34m(\u001b[0m\u001b[0;34m)\u001b[0m\u001b[0;34m:\u001b[0m\u001b[0;34m\u001b[0m\u001b[0;34m\u001b[0m\u001b[0m\n\u001b[1;32m   1046\u001b[0m             \u001b[0mcolumn\u001b[0m \u001b[0;34m=\u001b[0m \u001b[0mcast_to_python_objects\u001b[0m\u001b[0;34m(\u001b[0m\u001b[0mcolumn\u001b[0m\u001b[0;34m)\u001b[0m\u001b[0;34m\u001b[0m\u001b[0;34m\u001b[0m\u001b[0m\n\u001b[0;32m-> 1047\u001b[0;31m             \u001b[0mencoded_batch\u001b[0m\u001b[0;34m[\u001b[0m\u001b[0mkey\u001b[0m\u001b[0;34m]\u001b[0m \u001b[0;34m=\u001b[0m \u001b[0;34m[\u001b[0m\u001b[0mencode_nested_example\u001b[0m\u001b[0;34m(\u001b[0m\u001b[0mself\u001b[0m\u001b[0;34m[\u001b[0m\u001b[0mkey\u001b[0m\u001b[0;34m]\u001b[0m\u001b[0;34m,\u001b[0m \u001b[0mobj\u001b[0m\u001b[0;34m)\u001b[0m \u001b[0;32mfor\u001b[0m \u001b[0mobj\u001b[0m \u001b[0;32min\u001b[0m \u001b[0mcolumn\u001b[0m\u001b[0;34m]\u001b[0m\u001b[0;34m\u001b[0m\u001b[0;34m\u001b[0m\u001b[0m\n\u001b[0m\u001b[1;32m   1048\u001b[0m         \u001b[0;32mreturn\u001b[0m \u001b[0mencoded_batch\u001b[0m\u001b[0;34m\u001b[0m\u001b[0;34m\u001b[0m\u001b[0m\n\u001b[1;32m   1049\u001b[0m \u001b[0;34m\u001b[0m\u001b[0m\n",
            "\u001b[0;32m/usr/local/lib/python3.7/dist-packages/datasets/features.py\u001b[0m in \u001b[0;36m<listcomp>\u001b[0;34m(.0)\u001b[0m\n\u001b[1;32m   1045\u001b[0m         \u001b[0;32mfor\u001b[0m \u001b[0mkey\u001b[0m\u001b[0;34m,\u001b[0m \u001b[0mcolumn\u001b[0m \u001b[0;32min\u001b[0m \u001b[0mbatch\u001b[0m\u001b[0;34m.\u001b[0m\u001b[0mitems\u001b[0m\u001b[0;34m(\u001b[0m\u001b[0;34m)\u001b[0m\u001b[0;34m:\u001b[0m\u001b[0;34m\u001b[0m\u001b[0;34m\u001b[0m\u001b[0m\n\u001b[1;32m   1046\u001b[0m             \u001b[0mcolumn\u001b[0m \u001b[0;34m=\u001b[0m \u001b[0mcast_to_python_objects\u001b[0m\u001b[0;34m(\u001b[0m\u001b[0mcolumn\u001b[0m\u001b[0;34m)\u001b[0m\u001b[0;34m\u001b[0m\u001b[0;34m\u001b[0m\u001b[0m\n\u001b[0;32m-> 1047\u001b[0;31m             \u001b[0mencoded_batch\u001b[0m\u001b[0;34m[\u001b[0m\u001b[0mkey\u001b[0m\u001b[0;34m]\u001b[0m \u001b[0;34m=\u001b[0m \u001b[0;34m[\u001b[0m\u001b[0mencode_nested_example\u001b[0m\u001b[0;34m(\u001b[0m\u001b[0mself\u001b[0m\u001b[0;34m[\u001b[0m\u001b[0mkey\u001b[0m\u001b[0;34m]\u001b[0m\u001b[0;34m,\u001b[0m \u001b[0mobj\u001b[0m\u001b[0;34m)\u001b[0m \u001b[0;32mfor\u001b[0m \u001b[0mobj\u001b[0m \u001b[0;32min\u001b[0m \u001b[0mcolumn\u001b[0m\u001b[0;34m]\u001b[0m\u001b[0;34m\u001b[0m\u001b[0;34m\u001b[0m\u001b[0m\n\u001b[0m\u001b[1;32m   1048\u001b[0m         \u001b[0;32mreturn\u001b[0m \u001b[0mencoded_batch\u001b[0m\u001b[0;34m\u001b[0m\u001b[0;34m\u001b[0m\u001b[0m\n\u001b[1;32m   1049\u001b[0m \u001b[0;34m\u001b[0m\u001b[0m\n",
            "\u001b[0;32m/usr/local/lib/python3.7/dist-packages/datasets/features.py\u001b[0m in \u001b[0;36mencode_nested_example\u001b[0;34m(schema, obj)\u001b[0m\n\u001b[1;32m    887\u001b[0m         \u001b[0;31m# schema.feature is not a dict\u001b[0m\u001b[0;34m\u001b[0m\u001b[0;34m\u001b[0m\u001b[0;34m\u001b[0m\u001b[0m\n\u001b[1;32m    888\u001b[0m         \u001b[0;32mif\u001b[0m \u001b[0misinstance\u001b[0m\u001b[0;34m(\u001b[0m\u001b[0mobj\u001b[0m\u001b[0;34m,\u001b[0m \u001b[0mstr\u001b[0m\u001b[0;34m)\u001b[0m\u001b[0;34m:\u001b[0m  \u001b[0;31m# don't interpret a string as a list\u001b[0m\u001b[0;34m\u001b[0m\u001b[0;34m\u001b[0m\u001b[0m\n\u001b[0;32m--> 889\u001b[0;31m             \u001b[0;32mraise\u001b[0m \u001b[0mValueError\u001b[0m\u001b[0;34m(\u001b[0m\u001b[0;34m\"Got a string but expected a list instead: '{}'\"\u001b[0m\u001b[0;34m.\u001b[0m\u001b[0mformat\u001b[0m\u001b[0;34m(\u001b[0m\u001b[0mobj\u001b[0m\u001b[0;34m)\u001b[0m\u001b[0;34m)\u001b[0m\u001b[0;34m\u001b[0m\u001b[0;34m\u001b[0m\u001b[0m\n\u001b[0m\u001b[1;32m    890\u001b[0m         \u001b[0;32mreturn\u001b[0m \u001b[0;34m[\u001b[0m\u001b[0mencode_nested_example\u001b[0m\u001b[0;34m(\u001b[0m\u001b[0mschema\u001b[0m\u001b[0;34m.\u001b[0m\u001b[0mfeature\u001b[0m\u001b[0;34m,\u001b[0m \u001b[0mo\u001b[0m\u001b[0;34m)\u001b[0m \u001b[0;32mfor\u001b[0m \u001b[0mo\u001b[0m \u001b[0;32min\u001b[0m \u001b[0mobj\u001b[0m\u001b[0;34m]\u001b[0m \u001b[0;32mif\u001b[0m \u001b[0mobj\u001b[0m \u001b[0;32mis\u001b[0m \u001b[0;32mnot\u001b[0m \u001b[0;32mNone\u001b[0m \u001b[0;32melse\u001b[0m \u001b[0;32mNone\u001b[0m\u001b[0;34m\u001b[0m\u001b[0;34m\u001b[0m\u001b[0m\n\u001b[1;32m    891\u001b[0m     \u001b[0;31m# Object with special encoding:\u001b[0m\u001b[0;34m\u001b[0m\u001b[0;34m\u001b[0m\u001b[0;34m\u001b[0m\u001b[0m\n",
            "\u001b[0;31mValueError\u001b[0m: Got a string but expected a list instead: ''I'm going to Christmas with my kids,' he said, 'and I'm going to be a good boy.'"
          ]
        }
      ]
    },
    {
      "cell_type": "code",
      "metadata": {
        "id": "whVT9AcRirik"
      },
      "source": [
        "dataframe = pd.DataFrame(bleu_result)\n",
        "dataframe.to_csv('/content/bleu_art.csv', index = False)"
      ],
      "execution_count": null,
      "outputs": []
    },
    {
      "cell_type": "code",
      "metadata": {
        "id": "9nFvhXm5oKE6"
      },
      "source": [
        "from transformers import GPT2Tokenizer\n",
        "tokenizer = GPT2Tokenizer"
      ],
      "execution_count": 82,
      "outputs": []
    },
    {
      "cell_type": "code",
      "metadata": {
        "colab": {
          "base_uri": "https://localhost:8080/",
          "height": 191
        },
        "id": "YIdFiMJPoYKK",
        "outputId": "910a4623-a96f-4fd4-be97-d28b2f0dc298"
      },
      "source": [
        ""
      ],
      "execution_count": 87,
      "outputs": [
        {
          "output_type": "error",
          "ename": "TypeError",
          "evalue": "ignored",
          "traceback": [
            "\u001b[0;31m---------------------------------------------------------------------------\u001b[0m",
            "\u001b[0;31mTypeError\u001b[0m                                 Traceback (most recent call last)",
            "\u001b[0;32m<ipython-input-87-c8d50a0d5ed1>\u001b[0m in \u001b[0;36m<module>\u001b[0;34m()\u001b[0m\n\u001b[0;32m----> 1\u001b[0;31m \u001b[0mtokens\u001b[0m \u001b[0;34m=\u001b[0m\u001b[0mtokenizer\u001b[0m\u001b[0;34m.\u001b[0m\u001b[0mencode\u001b[0m\u001b[0;34m(\u001b[0m\u001b[0mtext\u001b[0m \u001b[0;34m=\u001b[0m \u001b[0mdf1\u001b[0m\u001b[0;34m[\u001b[0m\u001b[0;34m\"h\"\u001b[0m\u001b[0;34m]\u001b[0m\u001b[0;34m)\u001b[0m\u001b[0;34m\u001b[0m\u001b[0;34m\u001b[0m\u001b[0m\n\u001b[0m",
            "\u001b[0;31mTypeError\u001b[0m: encode() missing 1 required positional argument: 'self'"
          ]
        }
      ]
    },
    {
      "cell_type": "code",
      "metadata": {
        "id": "ue40d8tEnw4d"
      },
      "source": [
        "def compute_bleu(preds, targets):\n",
        "    for i in range(len(preds)):\n",
        "        res_preds, res_targets = [],[]\n",
        "        for p in preds[i]:\n",
        "            p_dec = tokenizer.decode(p.item())\n",
        "            if not p_dec in list(tokenizer.special_tokens_map.values()):\n",
        "                res_preds.append(p_dec)\n",
        "        for t in targets[i]:\n",
        "            t_dec = tokenizer.decode(t.item())\n",
        "            if not t_dec in list(tokenizer.special_tokens_map.values()):\n",
        "                res_targets.append(t_dec)\n",
        "        bleu_metric.add(res_preds, [res_targets])\n",
        "    return bleu_metric.compute()"
      ],
      "execution_count": 83,
      "outputs": []
    }
  ]
}