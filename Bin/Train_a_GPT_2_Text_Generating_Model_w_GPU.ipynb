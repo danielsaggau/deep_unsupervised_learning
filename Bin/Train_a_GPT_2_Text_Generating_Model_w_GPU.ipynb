{
  "nbformat": 4,
  "nbformat_minor": 0,
  "metadata": {
    "colab": {
      "name": "Train a GPT-2 Text-Generating Model w/ GPU",
      "provenance": [],
      "collapsed_sections": [],
      "toc_visible": true,
      "include_colab_link": true
    },
    "kernelspec": {
      "name": "python3",
      "display_name": "Python 3"
    },
    "accelerator": "GPU"
  },
  "cells": [
    {
      "cell_type": "markdown",
      "metadata": {
        "id": "view-in-github",
        "colab_type": "text"
      },
      "source": [
        "<a href=\"https://colab.research.google.com/github/danielsaggau/deep_unsupervised_learning/blob/main/Train_a_GPT_2_Text_Generating_Model_w_GPU.ipynb\" target=\"_parent\"><img src=\"https://colab.research.google.com/assets/colab-badge.svg\" alt=\"Open In Colab\"/></a>"
      ]
    },
    {
      "cell_type": "markdown",
      "metadata": {
        "id": "H7LoMj4GA4n_"
      },
      "source": [
        "#  Train a GPT-2 Text-Generating Model w/ GPU For Free \n",
        "\n",
        "by [Max Woolf](http://minimaxir.com)\n",
        "\n",
        "*Last updated: February 14th, 2021*\n",
        "\n",
        "Retrain an advanced text generating neural network on any text dataset **for free on a GPU using Collaboratory** using `gpt-2-simple`!\n",
        "\n",
        "For more about `gpt-2-simple`, you can visit [this GitHub repository](https://github.com/minimaxir/gpt-2-simple). You can also read my [blog post](https://minimaxir.com/2019/09/howto-gpt2/) for more information how to use this notebook!\n",
        "\n",
        "\n",
        "To get started:\n",
        "\n",
        "1. Copy this notebook to your Google Drive to keep it and save your changes. (File -> Save a Copy in Drive)\n",
        "2. Make sure you're running the notebook in Google Chrome.\n",
        "3. Run the cells below:\n"
      ]
    },
    {
      "cell_type": "code",
      "metadata": {
        "id": "KBkpRgBCBS2_",
        "colab": {
          "base_uri": "https://localhost:8080/"
        },
        "outputId": "4370980c-89cc-41e4-c46c-6549363c3495"
      },
      "source": [
        "%tensorflow_version 1.x\n",
        "!pip install -q gpt-2-simple\n",
        "import gpt_2_simple as gpt2\n",
        "from datetime import datetime\n",
        "from google.colab import files"
      ],
      "execution_count": 1,
      "outputs": [
        {
          "output_type": "stream",
          "text": [
            "TensorFlow 1.x selected.\n",
            "  Building wheel for gpt-2-simple (setup.py) ... \u001b[?25l\u001b[?25hdone\n",
            "WARNING:tensorflow:\n",
            "The TensorFlow contrib module will not be included in TensorFlow 2.0.\n",
            "For more information, please see:\n",
            "  * https://github.com/tensorflow/community/blob/master/rfcs/20180907-contrib-sunset.md\n",
            "  * https://github.com/tensorflow/addons\n",
            "  * https://github.com/tensorflow/io (for I/O related ops)\n",
            "If you depend on functionality not listed there, please file an issue.\n",
            "\n"
          ],
          "name": "stdout"
        }
      ]
    },
    {
      "cell_type": "markdown",
      "metadata": {
        "id": "Bj2IJLHP3KwE"
      },
      "source": [
        "## GPU\n",
        "\n",
        "Colaboratory uses either a Nvidia T4 GPU or an Nvidia K80 GPU. The T4 is slightly faster than the old K80 for training GPT-2, and has more memory allowing you to train the larger GPT-2 models and generate more text.\n",
        "\n",
        "You can verify which GPU is active by running the cell below."
      ]
    },
    {
      "cell_type": "code",
      "metadata": {
        "id": "sUmTooTW3osf",
        "colab": {
          "base_uri": "https://localhost:8080/"
        },
        "outputId": "bc92b34e-d600-443f-a885-56617e666073"
      },
      "source": [
        "!nvidia-smi"
      ],
      "execution_count": 2,
      "outputs": [
        {
          "output_type": "stream",
          "text": [
            "Fri May  7 16:31:51 2021       \n",
            "+-----------------------------------------------------------------------------+\n",
            "| NVIDIA-SMI 465.19.01    Driver Version: 460.32.03    CUDA Version: 11.2     |\n",
            "|-------------------------------+----------------------+----------------------+\n",
            "| GPU  Name        Persistence-M| Bus-Id        Disp.A | Volatile Uncorr. ECC |\n",
            "| Fan  Temp  Perf  Pwr:Usage/Cap|         Memory-Usage | GPU-Util  Compute M. |\n",
            "|                               |                      |               MIG M. |\n",
            "|===============================+======================+======================|\n",
            "|   0  Tesla K80           Off  | 00000000:00:04.0 Off |                    0 |\n",
            "| N/A   33C    P8    28W / 149W |      0MiB / 11441MiB |      0%      Default |\n",
            "|                               |                      |                  N/A |\n",
            "+-------------------------------+----------------------+----------------------+\n",
            "                                                                               \n",
            "+-----------------------------------------------------------------------------+\n",
            "| Processes:                                                                  |\n",
            "|  GPU   GI   CI        PID   Type   Process name                  GPU Memory |\n",
            "|        ID   ID                                                   Usage      |\n",
            "|=============================================================================|\n",
            "|  No running processes found                                                 |\n",
            "+-----------------------------------------------------------------------------+\n"
          ],
          "name": "stdout"
        }
      ]
    },
    {
      "cell_type": "markdown",
      "metadata": {
        "id": "0wXB05bPDYxS"
      },
      "source": [
        "## Downloading GPT-2\n",
        "\n",
        "If you're retraining a model on new text, you need to download the GPT-2 model first. \n",
        "\n",
        "There are three released sizes of GPT-2:\n",
        "\n",
        "* `124M` (default): the \"small\" model, 500MB on disk.\n",
        "* `355M`: the \"medium\" model, 1.5GB on disk.\n",
        "* `774M`: the \"large\" model, cannot currently be finetuned with Colaboratory but can be used to generate text from the pretrained model (see later in Notebook)\n",
        "* `1558M`: the \"extra large\", true model. Will not work if a K80/P4 GPU is attached to the notebook. (like `774M`, it cannot be finetuned).\n",
        "\n",
        "Larger models have more knowledge, but take longer to finetune and longer to generate text. You can specify which base model to use by changing `model_name` in the cells below.\n",
        "\n",
        "The next cell downloads it from Google Cloud Storage and saves it in the Colaboratory VM at `/models/<model_name>`.\n",
        "\n",
        "This model isn't permanently saved in the Colaboratory VM; you'll have to redownload it if you want to retrain it at a later time."
      ]
    },
    {
      "cell_type": "code",
      "metadata": {
        "id": "P8wSlgXoDPCR",
        "colab": {
          "base_uri": "https://localhost:8080/"
        },
        "outputId": "f3cc16e8-efd4-4214-8262-3e1ba843cf67"
      },
      "source": [
        "gpt2.download_gpt2(model_name=\"124M\")"
      ],
      "execution_count": 3,
      "outputs": [
        {
          "output_type": "stream",
          "text": [
            "Fetching checkpoint: 1.05Mit [00:00, 214Mit/s]                                                      \n",
            "Fetching encoder.json: 1.05Mit [00:01, 655kit/s]\n",
            "Fetching hparams.json: 1.05Mit [00:00, 317Mit/s]                                                    \n",
            "Fetching model.ckpt.data-00000-of-00001: 498Mit [06:55, 1.20Mit/s]\n",
            "Fetching model.ckpt.index: 1.05Mit [00:00, 193Mit/s]                                                \n",
            "Fetching model.ckpt.meta: 1.05Mit [00:01, 962kit/s]\n",
            "Fetching vocab.bpe: 1.05Mit [00:01, 984kit/s]\n"
          ],
          "name": "stderr"
        }
      ]
    },
    {
      "cell_type": "markdown",
      "metadata": {
        "id": "N8KXuKWzQSsN"
      },
      "source": [
        "## Mounting Google Drive\n",
        "\n",
        "The best way to get input text to-be-trained into the Colaboratory VM, and to get the trained model *out* of Colaboratory, is to route it through Google Drive *first*.\n",
        "\n",
        "Running this cell (which will only work in Colaboratory) will mount your personal Google Drive in the VM, which later cells can use to get data in/out. (it will ask for an auth code; that auth is not saved anywhere)"
      ]
    },
    {
      "cell_type": "code",
      "metadata": {
        "id": "puq4iC6vUAHc",
        "outputId": "17fd747e-bd21-49f6-b0e9-4d7e473bd2eb",
        "colab": {
          "base_uri": "https://localhost:8080/"
        }
      },
      "source": [
        "gpt2.mount_gdrive()"
      ],
      "execution_count": 4,
      "outputs": [
        {
          "output_type": "stream",
          "text": [
            "Mounted at /content/drive\n"
          ],
          "name": "stdout"
        }
      ]
    },
    {
      "cell_type": "markdown",
      "metadata": {
        "id": "BT__brhBCvJu"
      },
      "source": [
        "## Uploading a Text File to be Trained to Colaboratory\n",
        "\n",
        "In the Colaboratory Notebook sidebar on the left of the screen, select *Files*. From there you can upload files:\n",
        "\n",
        "![alt text](https://i.imgur.com/TGcZT4h.png)\n",
        "\n",
        "Upload **any smaller text file**  (<10 MB) and update the file name in the cell below, then run the cell."
      ]
    },
    {
      "cell_type": "code",
      "metadata": {
        "id": "6OFnPCLADfll"
      },
      "source": [
        "file_name = \"shakespeare.txt\""
      ],
      "execution_count": 18,
      "outputs": []
    },
    {
      "cell_type": "markdown",
      "metadata": {
        "id": "HeeSKtNWUedE"
      },
      "source": [
        "If your text file is larger than 10MB, it is recommended to upload that file to Google Drive first, then copy that file from Google Drive to the Colaboratory VM."
      ]
    },
    {
      "cell_type": "code",
      "metadata": {
        "id": "-Z6okFD8VKtS"
      },
      "source": [
        "gpt2.copy_file_from_gdrive(file_name)"
      ],
      "execution_count": 19,
      "outputs": []
    },
    {
      "cell_type": "code",
      "metadata": {
        "id": "8AKSJ2UatRO1",
        "outputId": "80b832d9-1401-4573-bb5e-4a55c54d78e1",
        "colab": {
          "base_uri": "https://localhost:8080/"
        }
      },
      "source": [
        "from google.colab import drive\n",
        "drive.mount('/content/drive')"
      ],
      "execution_count": 20,
      "outputs": [
        {
          "output_type": "stream",
          "text": [
            "Drive already mounted at /content/drive; to attempt to forcibly remount, call drive.mount(\"/content/drive\", force_remount=True).\n"
          ],
          "name": "stdout"
        }
      ]
    },
    {
      "cell_type": "markdown",
      "metadata": {
        "id": "LdpZQXknFNY3"
      },
      "source": [
        "## Finetune GPT-2\n",
        "\n",
        "The next cell will start the actual finetuning of GPT-2. It creates a persistent TensorFlow session which stores the training config, then runs the training for the specified number of `steps`. (to have the finetuning run indefinitely, set `steps = -1`)\n",
        "\n",
        "The model checkpoints will be saved in `/checkpoint/run1` by default. The checkpoints are saved every 500 steps (can be changed) and when the cell is stopped.\n",
        "\n",
        "The training might time out after 4ish hours; make sure you end training and save the results so you don't lose them!\n",
        "\n",
        "**IMPORTANT NOTE:** If you want to rerun this cell, **restart the VM first** (Runtime -> Restart Runtime). You will need to rerun imports but not recopy files.\n",
        "\n",
        "Other optional-but-helpful parameters for `gpt2.finetune`:\n",
        "\n",
        "\n",
        "*  **`restore_from`**: Set to `fresh` to start training from the base GPT-2, or set to `latest` to restart training from an existing checkpoint.\n",
        "* **`sample_every`**: Number of steps to print example output\n",
        "* **`print_every`**: Number of steps to print training progress.\n",
        "* **`learning_rate`**:  Learning rate for the training. (default `1e-4`, can lower to `1e-5` if you have <1MB input data)\n",
        "*  **`run_name`**: subfolder within `checkpoint` to save the model. This is useful if you want to work with multiple models (will also need to specify  `run_name` when loading the model)\n",
        "* **`overwrite`**: Set to `True` if you want to continue finetuning an existing model (w/ `restore_from='latest'`) without creating duplicate copies. "
      ]
    },
    {
      "cell_type": "code",
      "metadata": {
        "id": "aeXshJM-Cuaf",
        "colab": {
          "base_uri": "https://localhost:8080/"
        },
        "outputId": "2e40d229-9399-451d-bffa-5e6e72c39b65"
      },
      "source": [
        "sess = gpt2.start_tf_sess()\n",
        "\n",
        "gpt2.finetune(sess,\n",
        "              dataset=file_name,\n",
        "              model_name='124M',\n",
        "              steps=1000,\n",
        "              restore_from='fresh',\n",
        "              run_name='run1',\n",
        "              print_every=10,\n",
        "              sample_every=200,\n",
        "              save_every=500\n",
        "              )"
      ],
      "execution_count": 21,
      "outputs": [
        {
          "output_type": "stream",
          "text": [
            "WARNING:tensorflow:From /usr/local/lib/python3.7/dist-packages/gpt_2_simple/src/sample.py:17: where (from tensorflow.python.ops.array_ops) is deprecated and will be removed in a future version.\n",
            "Instructions for updating:\n",
            "Use tf.where in 2.0, which has the same broadcast rule as np.where\n",
            "Loading checkpoint models/124M/model.ckpt\n",
            "INFO:tensorflow:Restoring parameters from models/124M/model.ckpt\n"
          ],
          "name": "stdout"
        },
        {
          "output_type": "stream",
          "text": [
            "\r  0%|          | 0/1 [00:00<?, ?it/s]"
          ],
          "name": "stderr"
        },
        {
          "output_type": "stream",
          "text": [
            "Loading dataset...\n"
          ],
          "name": "stdout"
        },
        {
          "output_type": "stream",
          "text": [
            "100%|██████████| 1/1 [00:09<00:00,  9.50s/it]\n"
          ],
          "name": "stderr"
        },
        {
          "output_type": "stream",
          "text": [
            "dataset has 1843775 tokens\n",
            "Training...\n",
            "[10 | 50.56] loss=3.09 avg=3.09\n",
            "[20 | 94.24] loss=2.68 avg=2.88\n",
            "[30 | 137.86] loss=3.11 avg=2.96\n",
            "[40 | 181.45] loss=3.00 avg=2.97\n",
            "[50 | 225.10] loss=2.73 avg=2.92\n",
            "[60 | 269.09] loss=2.84 avg=2.91\n",
            "[70 | 312.89] loss=3.10 avg=2.94\n",
            "[80 | 356.64] loss=2.42 avg=2.87\n",
            "[90 | 400.22] loss=2.88 avg=2.87\n",
            "[100 | 443.82] loss=2.90 avg=2.87\n",
            "[110 | 487.64] loss=2.79 avg=2.87\n",
            "[120 | 531.58] loss=2.71 avg=2.85\n",
            "[130 | 575.26] loss=2.70 avg=2.84\n",
            "[140 | 618.85] loss=2.55 avg=2.82\n",
            "[150 | 662.43] loss=2.79 avg=2.82\n",
            "[160 | 706.12] loss=2.60 avg=2.80\n",
            "[170 | 750.01] loss=2.43 avg=2.78\n",
            "[180 | 793.91] loss=2.57 avg=2.77\n",
            "[190 | 837.81] loss=2.61 avg=2.76\n",
            "[200 | 881.68] loss=2.65 avg=2.75\n",
            "======== SAMPLE 1 ========\n",
            "C.\n",
            "\n",
            "\n",
            "CHAP. [Aside.] What say ye, then,\n",
            "    Wherein are my masters;\n",
            "    Wherein is the king, who, for what purpose,\n",
            "    Hath he slain, and set in motion\n",
            "    The rest of the kingdom?\n",
            "    Were he, and by his death\n",
            "    For good use of men's lives,\n",
            "    Should such as are dead were set in motion\n",
            "    To restore the lives of those that did\n",
            "    To his service? Have you heard\n",
            "    The speech of the slain King\n",
            "    And call the cause of his death\n",
            "    A traitor?\n",
            "  A. [Aside.] A traitor! Where are the King's men\n",
            "    And the people that are by this time\n",
            "    Set dead thus?\n",
            "  A. [Aside.] Why, I am dead!\n",
            "    I am a man, a traitor.\n",
            "    If he do come to life, he is dead;\n",
            "    If he be slain, it is to be revenged\n",
            "    That he be so killed and set in motion\n",
            "    To restore the lives of those that have slain him.\n",
            "    If he himself should be slain,\n",
            "    For good life and great service do follow him,\n",
            "    He can not live to the death\n",
            "    He should have been; and for that good service,\n",
            "    When he should have lost men's lives,\n",
            "    He, by his own choice made,\n",
            "    Shall be remembered, and made a traitor;\n",
            "    He, who in a quarrel, beget the blood\n",
            "    Of a traitor, shall be a traitor\n",
            "    And, when a traitor is made an traitor,\n",
            "    Then die he. If he die by so much\n",
            "    And serve in this deed, he shall fall\n",
            "    And make a traitor, that at least,\n",
            "    It is a worthy death, for no person\n",
            "    Had by this deed done such a deed.\n",
            "    But if that deed should be avenged, it\n",
            "    Should become a grievous death.\n",
            "    Then we may bring good fortune\n",
            "    And be revenged upon the lives of the dead.\n",
            "  O. By this, the whole court would,\n",
            "    And be very dear to the King,\n",
            "    That by this act they should be made dead.\n",
            "  LEONSELO. There's more than a fault!\n",
            "  LEWIS. He is very dear to the King, because his death\n",
            "    Is so much honourable to him.\n",
            "  O. [Aside.] What say ye, then: why,\n",
            "    Wherein are he that keeps his friends safe?\n",
            "  LEWIS. He keeps his friends safe, because of his great-\n",
            "    For this reason, so he keeps his friends safe;\n",
            "    For he is his man's man, and he fights valiantly;\n",
            "    Therefore, by his deeds, we live, and go.\n",
            "  LEONSELO. I am glad that so dearly I have had it;\n",
            "    The cause of his death is, not by me;\n",
            "    For my own fault, I do not think it the fault;\n",
            "    I have not heard from the dead for a while;\n",
            "    No doubt this circumstance\n",
            "    Have a great cause.\n",
            "  O. [Aside.] So, now, my daughter.\n",
            "  LEWIS. Ay, so.             Exeunt.\n",
            "\n",
            "\n",
            "\n",
            "DRESS OF MARGARET. Now, to the King's court\n",
            "\n",
            "  QUEEN ELIZABETH. I will,\n",
            "    And here, Sir Henry.\n",
            "  KING HENRY. It is my hope, Sir Henry, that it shall be,\n",
            "    If nothing here be seen of it;\n",
            "    And, if it so be made, we, if it be found,\n",
            "    Shall be the cause behind it. It is an honour'd one,\n",
            "    Because, from that which we were born,\n",
            "    We were here, for we did not bear\n",
            "    The blame of this murder;\n",
            "    Or, if it be so, and we are worthy\n",
            "    To owe this,\n",
            "    We here owe much that, in the execution of it,\n",
            "    Were our own fault; for to these deeds\n",
            "    Our life are forfeit. Our fault is\n",
            "\n",
            "[210 | 943.18] loss=2.63 avg=2.74\n",
            "[220 | 986.77] loss=2.69 avg=2.74\n",
            "[230 | 1030.34] loss=2.45 avg=2.73\n",
            "[240 | 1074.00] loss=2.76 avg=2.73\n",
            "[250 | 1117.90] loss=2.33 avg=2.71\n",
            "[260 | 1161.80] loss=2.86 avg=2.72\n",
            "[270 | 1205.45] loss=2.51 avg=2.71\n",
            "[280 | 1248.98] loss=2.61 avg=2.70\n",
            "[290 | 1292.56] loss=2.53 avg=2.70\n",
            "[300 | 1336.30] loss=2.73 avg=2.70\n",
            "[310 | 1380.29] loss=2.54 avg=2.69\n",
            "[320 | 1424.06] loss=2.83 avg=2.70\n",
            "[330 | 1467.72] loss=2.62 avg=2.70\n",
            "[340 | 1511.30] loss=2.22 avg=2.68\n",
            "[350 | 1554.89] loss=2.41 avg=2.67\n",
            "[360 | 1598.74] loss=2.88 avg=2.68\n",
            "[370 | 1642.62] loss=2.55 avg=2.67\n",
            "[380 | 1686.30] loss=2.58 avg=2.67\n",
            "[390 | 1729.91] loss=2.61 avg=2.67\n",
            "[400 | 1773.53] loss=2.59 avg=2.67\n",
            "======== SAMPLE 1 ========\n",
            " upon thy head; nor to thy face, if thou be a little more wise.\n",
            "    The world, and you no more, is the world;\n",
            "    And thou shalt be a world in any part of it\n",
            "    Where I can do a good service and a service\n",
            "    With thy own hands.\n",
            "    But in the world and those parts, and those\n",
            "    Shall be a world but in yourself.\n",
            "    Let's go to bed.\n",
            "                                                                      Exeunt [O'erhouse and Nurse].\n",
            "\n",
            "\n",
            "\n",
            "\n",
            "SCENE III.\n",
            "Rome. The Capitol.\n",
            "\n",
            "Enter the Senate and the Governor.\n",
            "\n",
            "  BRAUN. Is it with pleasure that the Senate and this High Constable\n",
            "    meet on the high brow of the Capitol in person?\n",
            "    Let us go, gentlemen, and bid them bid us come\n",
            "    As quickly as time shall take our courses.\n",
            "    Come, noble senators. Stand-by for me; but\n",
            "    Be it all too late; we do know the will.\n",
            "    This is the stately Duke Clavius.\n",
            "  RATCLIFF. I do believe him, if ever I hear you.\n",
            "    I must hear it. I see in him a man\n",
            "    I warrant a thousand times, like some such-\n",
            "    With all his kind and valour and good deeds and\n",
            "    This most virtuous gentleman's good; and his virtue,\n",
            "    And that from his most virtuous qualities I grant you,\n",
            "    I cannot but think it lies in him.\n",
            "    He is as good and full of love and joy as\n",
            "    I could say he was in me. If I may\n",
            "    make this general claim of him, or if I can make any\n",
            "    claim of him whatsoever, I will send him to you;\n",
            "    And here be it, that for this cause and this town,\n",
            "    The people are so fair, so happy, and of all the world,\n",
            "    That by such a man may have his name\n",
            "    For good conduct; for this great man, by whose\n",
            "    A fine quality so greatly deserves a place;\n",
            "    Not only for his looks; so that he, by that excellent\n",
            "    Most noble Duke, so much esteemed\n",
            "    As the gentleman's, though they say him a man,\n",
            "    And of great worth; yea, a gentleman-\n",
            "    And there, indeed, it's no wonder, but I know\n",
            "    The mind of him's worthier, but I do fear\n",
            "    That in his heart, as he is of very good\n",
            "    Being, not being in the proper place to deserve,\n",
            "    His heart, I think, is most defective in\n",
            "    This noble Duke.\n",
            "    I shall see him in full.                                                Exeunt.\n",
            "\n",
            "\n",
            "\n",
            "\n",
            "SCENE IV.\n",
            "[The Capitol]\n",
            "\n",
            "Enter the Duke of Suffolk, and the High Constable.\n",
            "\n",
            "  NORTHUMBERLAND. What, what, are you, and how did you come here?\n",
            "    Here with your arms?\n",
            "  WALTER. Why, what, to make you think you might be so, sir?\n",
            "    And what, will I see you? Here, here, and there.\n",
            "    And when you have come there, what say you to it?\n",
            "    What does your Highness here?\n",
            "    I see the house, the court, and all the court,\n",
            "    In this place, but it is a little more\n",
            "    A house of peace, and nothing more of peace,\n",
            "    Than in another place, a fair, and yet nothing more\n",
            "    Of peace and court, but nothing more of court,\n",
            "    But nothing more of peace, but only the peace\n",
            "    For peace's sake.\n",
            "  OLD DUKE. How long hath he been here?\n",
            "    What, how?\n",
            "  WALTER. And will I see you\n",
            "\n",
            "[410 | 1833.77] loss=2.42 avg=2.66\n",
            "[420 | 1877.68] loss=2.48 avg=2.65\n",
            "[430 | 1921.39] loss=2.54 avg=2.65\n",
            "[440 | 1965.04] loss=2.63 avg=2.65\n",
            "[450 | 2008.57] loss=2.48 avg=2.65\n",
            "[460 | 2052.26] loss=2.61 avg=2.64\n",
            "[470 | 2096.24] loss=2.54 avg=2.64\n",
            "[480 | 2140.05] loss=2.33 avg=2.63\n",
            "[490 | 2183.72] loss=2.54 avg=2.63\n",
            "[500 | 2227.32] loss=2.62 avg=2.63\n",
            "Saving checkpoint/run1/model-500\n",
            "[510 | 2274.07] loss=2.29 avg=2.62\n",
            "[520 | 2317.93] loss=2.25 avg=2.61\n",
            "interrupted\n",
            "Saving checkpoint/run1/model-522\n",
            "WARNING:tensorflow:From /tensorflow-1.15.2/python3.7/tensorflow_core/python/training/saver.py:963: remove_checkpoint (from tensorflow.python.training.checkpoint_management) is deprecated and will be removed in a future version.\n",
            "Instructions for updating:\n",
            "Use standard file APIs to delete files with this prefix.\n"
          ],
          "name": "stdout"
        }
      ]
    },
    {
      "cell_type": "markdown",
      "metadata": {
        "id": "IXSuTNERaw6K"
      },
      "source": [
        "After the model is trained, you can copy the checkpoint folder to your own Google Drive.\n",
        "\n",
        "If you want to download it to your personal computer, it's strongly recommended you copy it there first, then download from Google Drive. The checkpoint folder is copied as a `.rar` compressed file; you can download it and uncompress it locally."
      ]
    },
    {
      "cell_type": "code",
      "metadata": {
        "id": "VHdTL8NDbAh3"
      },
      "source": [
        "gpt2.copy_checkpoint_to_gdrive(run_name='run1')"
      ],
      "execution_count": null,
      "outputs": []
    },
    {
      "cell_type": "markdown",
      "metadata": {
        "id": "qQJgV_b4bmzd"
      },
      "source": [
        "You're done! Feel free to go to the **Generate Text From The Trained Model** section to generate text based on your retrained model."
      ]
    },
    {
      "cell_type": "markdown",
      "metadata": {
        "id": "pel-uBULXO2L"
      },
      "source": [
        "## Load a Trained Model Checkpoint\n",
        "\n",
        "Running the next cell will copy the `.rar` checkpoint file from your Google Drive into the Colaboratory VM."
      ]
    },
    {
      "cell_type": "code",
      "metadata": {
        "id": "DCcx5u7sbPTD"
      },
      "source": [
        "gpt2.copy_checkpoint_from_gdrive(run_name='run1')"
      ],
      "execution_count": null,
      "outputs": []
    },
    {
      "cell_type": "markdown",
      "metadata": {
        "id": "RTa6zf3e_9gV"
      },
      "source": [
        "The next cell will allow you to load the retrained model checkpoint + metadata necessary to generate text.\n",
        "\n",
        "**IMPORTANT NOTE:** If you want to rerun this cell, **restart the VM first** (Runtime -> Restart Runtime). You will need to rerun imports but not recopy files."
      ]
    },
    {
      "cell_type": "code",
      "metadata": {
        "id": "-fxL77nvAMAX"
      },
      "source": [
        "sess = gpt2.start_tf_sess()\n",
        "gpt2.load_gpt2(sess, run_name='run1')"
      ],
      "execution_count": null,
      "outputs": []
    },
    {
      "cell_type": "markdown",
      "metadata": {
        "id": "ClJwpF_ACONp"
      },
      "source": [
        "## Generate Text From The Trained Model\n",
        "\n",
        "After you've trained the model or loaded a retrained model from checkpoint, you can now generate text. `generate` generates a single text from the loaded model."
      ]
    },
    {
      "cell_type": "code",
      "metadata": {
        "id": "4RNY6RBI9LmL",
        "colab": {
          "base_uri": "https://localhost:8080/"
        },
        "outputId": "3d246763-86cf-41c7-f6c7-85831857ac25"
      },
      "source": [
        "gpt2.generate(sess, run_name='run1')"
      ],
      "execution_count": 22,
      "outputs": [
        {
          "output_type": "stream",
          "text": [
            "                                                [Laughter.]\n",
            "                                [Sound a war drum.]\n",
            "                              [Flourish. Enter MOTH, and watchers.]\n",
            "  MOTH. An I can tell, sirrah,\n",
            "    The trumpet calls, and so shall you hear.\n",
            "  WATCHER. Here, your servant.\n",
            "  MOTH. It is a goodly trumpet that I hear.\n",
            "  WATCHER. Why, sir?\n",
            "  MOTH. It is a goodly note, and so shall you hear.\n",
            "  WATCHER. Why, sir.\n",
            "  MOTH. It is a goodly note, and so shall you hear.\n",
            "  WATCHER. Sir, you shall hear but for the trumpet.\n",
            "  MOTH. I know not, sir; but I know it well.\n",
            "  WATCHER. 'Tis a goodly note, and so shall you hear.\n",
            "  MOTH. I know not, sir; but I know it well.\n",
            "  WATCHER. Well then, sir, for the trumpet call you home.\n",
            "  MOTH. Sir, you shall hear but for the trumpet.\n",
            "  WATCHER. Why, sir, for the trumpet call you home.\n",
            "  MOTH. I know not, sir; but I know it well.\n",
            "  WATCHER. Well then, sir, for the trumpet call you home.\n",
            "  MOTH. I know not, sir; but I know it well.\n",
            "  WATCHER. Well then, sir, for the trumpet call you home.\n",
            "  MOTH. I know not, sir; but I know it well.\n",
            "  WATCHER. So, sir, for the trumpet call you home;\n",
            "    for the trumpet call you home.\n",
            "  MOTH. Sir, sir, for the trumpet call you home;\n",
            "    for the trumpet call you home.\n",
            "  WATCHER. What, sir?\n",
            "  MOTH. Sir, sir, for the trumpet call you home.\n",
            "  WATCHER. What, sir?\n",
            "  MOTH. Sir, sir, for the trumpet call you home.\n",
            "  WATCHER. Well then, sir, for the trumpet call you home.\n",
            "                                                                  [Music, trumpets and music.]\n",
            "  WATCHER. Here comes the devil, or else I am a devil,\n",
            "    Have I been here before, I would not have heard this.\n",
            "  MOTH. I know not, sir; but I know it well.\n",
            "  WATCHER. Well then, sir, for the trumpet call you home.\n",
            "  MOTH. Sir, sir, for the trumpet call you home.\n",
            "  WATCHER. Now, sir, for the trumpet call you home.\n",
            "  MOTH. I know not, sir; but I know it well.\n",
            "  WATCHER. Well then, sir, for the trumpet call you home.\n",
            "  MOTH. I know not, sir; but I know it well.\n",
            "  WATCHER. Well then, sir, for the trumpet call you home.\n",
            "  MOTH. I know not, sir; but I know it well.\n",
            "  WATCHER. Good morrow, sir.\n",
            "  MOTH. Well then, sir, for the trumpet call you home.\n",
            "  WATCHER. Sir, would you were here before, if you had been here when?\n",
            "  MOTH. No, sir; I am here, sir; but I am not here, sir;\n",
            "    I am not here, sir; I am not here, sir; I am here, sir;\n",
            "    I am not here; I am not here, sir; and I am not here, sir, sir,\n",
            "    I am not here, sir; but I am not here, sir, sir; I am not, sir, sir, sir, sir,\n",
            "    I am not here, sir; I am not here, sir; I am not, sir, sir, sir, sir, sir, sir, sir, sir, sir, sir, sir, sir, sir, sir,\n"
          ],
          "name": "stdout"
        }
      ]
    },
    {
      "cell_type": "markdown",
      "metadata": {
        "id": "oF4-PqF0Fl7R"
      },
      "source": [
        "If you're creating an API based on your model and need to pass the generated text elsewhere, you can do `text = gpt2.generate(sess, return_as_list=True)[0]`\n",
        "\n",
        "You can also pass in a `prefix` to the generate function to force the text to start with a given character sequence and generate text from there (good if you add an indicator when the text starts).\n",
        "\n",
        "You can also generate multiple texts at a time by specifing `nsamples`. Unique to GPT-2, you can pass a `batch_size` to generate multiple samples in parallel, giving a massive speedup (in Colaboratory, set a maximum of 20 for `batch_size`).\n",
        "\n",
        "Other optional-but-helpful parameters for `gpt2.generate` and friends:\n",
        "\n",
        "*  **`length`**: Number of tokens to generate (default 1023, the maximum)\n",
        "* **`temperature`**: The higher the temperature, the crazier the text (default 0.7, recommended to keep between 0.7 and 1.0)\n",
        "* **`top_k`**: Limits the generated guesses to the top *k* guesses (default 0 which disables the behavior; if the generated output is super crazy, you may want to set `top_k=40`)\n",
        "* **`top_p`**: Nucleus sampling: limits the generated guesses to a cumulative probability. (gets good results on a dataset with `top_p=0.9`)\n",
        "* **`truncate`**: Truncates the input text until a given sequence, excluding that sequence (e.g. if `truncate='<|endoftext|>'`, the returned text will include everything before the first `<|endoftext|>`). It may be useful to combine this with a smaller `length` if the input texts are short.\n",
        "*  **`include_prefix`**: If using `truncate` and `include_prefix=False`, the specified `prefix` will not be included in the returned text."
      ]
    },
    {
      "cell_type": "code",
      "metadata": {
        "id": "8DKMc0fiej4N"
      },
      "source": [
        "gpt2.generate(sess,\n",
        "              length=250,\n",
        "              temperature=0.7,\n",
        "              prefix=\"LORD\",\n",
        "              nsamples=5,\n",
        "              batch_size=5\n",
        "              )"
      ],
      "execution_count": null,
      "outputs": []
    },
    {
      "cell_type": "markdown",
      "metadata": {
        "id": "zjjEN2Tafhl2"
      },
      "source": [
        "For bulk generation, you can generate a large amount of text to a file and sort out the samples locally on your computer. The next cell will generate a generated text file with a unique timestamp.\n",
        "\n",
        "You can rerun the cells as many times as you want for even more generated texts!"
      ]
    },
    {
      "cell_type": "code",
      "metadata": {
        "id": "Fa6p6arifSL0"
      },
      "source": [
        "gen_file = 'gpt2_gentext_{:%Y%m%d_%H%M%S}.txt'.format(datetime.utcnow())\n",
        "\n",
        "gpt2.generate_to_file(sess,\n",
        "                      destination_path=gen_file,\n",
        "                      length=500,\n",
        "                      temperature=0.7,\n",
        "                      nsamples=100,\n",
        "                      batch_size=20\n",
        "                      )"
      ],
      "execution_count": null,
      "outputs": []
    },
    {
      "cell_type": "code",
      "metadata": {
        "id": "0-LRex8lfv1g"
      },
      "source": [
        "# may have to run twice to get file to download\n",
        "files.download(gen_file)"
      ],
      "execution_count": null,
      "outputs": []
    },
    {
      "cell_type": "markdown",
      "metadata": {
        "id": "QQAN3M6RT7Kj"
      },
      "source": [
        "## Generate Text From The Pretrained Model\n",
        "\n",
        "If you want to generate text from the pretrained model, not a finetuned model, pass `model_name` to `gpt2.load_gpt2()` and `gpt2.generate()`.\n",
        "\n",
        "This is currently the only way to generate text from the 774M or 1558M models with this notebook."
      ]
    },
    {
      "cell_type": "code",
      "metadata": {
        "id": "hsUd_jHgUZnD"
      },
      "source": [
        "model_name = \"774M\"\n",
        "\n",
        "gpt2.download_gpt2(model_name=model_name)"
      ],
      "execution_count": null,
      "outputs": []
    },
    {
      "cell_type": "code",
      "metadata": {
        "id": "BAe4NpKNUj2C"
      },
      "source": [
        "sess = gpt2.start_tf_sess()\n",
        "\n",
        "gpt2.load_gpt2(sess, model_name=model_name)"
      ],
      "execution_count": null,
      "outputs": []
    },
    {
      "cell_type": "code",
      "metadata": {
        "id": "-xInIZKaU104"
      },
      "source": [
        "gpt2.generate(sess,\n",
        "              model_name=model_name,\n",
        "              prefix=\"The secret of life is\",\n",
        "              length=100,\n",
        "              temperature=0.7,\n",
        "              top_p=0.9,\n",
        "              nsamples=5,\n",
        "              batch_size=5\n",
        "              )"
      ],
      "execution_count": null,
      "outputs": []
    },
    {
      "cell_type": "markdown",
      "metadata": {
        "id": "ig-KVgkCDCKD"
      },
      "source": [
        "# Etcetera\n",
        "\n",
        "If the notebook has errors (e.g. GPU Sync Fail), force-kill the Colaboratory virtual machine and restart it with the command below:"
      ]
    },
    {
      "cell_type": "code",
      "metadata": {
        "id": "rIHiVP53FnsX"
      },
      "source": [
        "!kill -9 -1"
      ],
      "execution_count": null,
      "outputs": []
    },
    {
      "cell_type": "markdown",
      "metadata": {
        "id": "wmTXWNUygS5E"
      },
      "source": [
        "# LICENSE\n",
        "\n",
        "MIT License\n",
        "\n",
        "Copyright (c) 2019 Max Woolf\n",
        "\n",
        "Permission is hereby granted, free of charge, to any person obtaining a copy\n",
        "of this software and associated documentation files (the \"Software\"), to deal\n",
        "in the Software without restriction, including without limitation the rights\n",
        "to use, copy, modify, merge, publish, distribute, sublicense, and/or sell\n",
        "copies of the Software, and to permit persons to whom the Software is\n",
        "furnished to do so, subject to the following conditions:\n",
        "\n",
        "The above copyright notice and this permission notice shall be included in all\n",
        "copies or substantial portions of the Software.\n",
        "\n",
        "THE SOFTWARE IS PROVIDED \"AS IS\", WITHOUT WARRANTY OF ANY KIND, EXPRESS OR\n",
        "IMPLIED, INCLUDING BUT NOT LIMITED TO THE WARRANTIES OF MERCHANTABILITY,\n",
        "FITNESS FOR A PARTICULAR PURPOSE AND NONINFRINGEMENT. IN NO EVENT SHALL THE\n",
        "AUTHORS OR COPYRIGHT HOLDERS BE LIABLE FOR ANY CLAIM, DAMAGES OR OTHER\n",
        "LIABILITY, WHETHER IN AN ACTION OF CONTRACT, TORT OR OTHERWISE, ARISING FROM,\n",
        "OUT OF OR IN CONNECTION WITH THE SOFTWARE OR THE USE OR OTHER DEALINGS IN THE\n",
        "SOFTWARE."
      ]
    }
  ]
}